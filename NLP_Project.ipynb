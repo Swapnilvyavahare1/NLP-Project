{
  "nbformat": 4,
  "nbformat_minor": 0,
  "metadata": {
    "colab": {
      "provenance": []
    },
    "kernelspec": {
      "name": "python3",
      "display_name": "Python 3"
    },
    "language_info": {
      "name": "python"
    },
    "accelerator": "GPU",
    "gpuClass": "standard"
  },
  "cells": [
    {
      "cell_type": "markdown",
      "source": [
        "Spam message Classification Problem"
      ],
      "metadata": {
        "id": "gZyhoDart3dw"
      }
    },
    {
      "cell_type": "code",
      "source": [
        "import os,sys\n",
        "import numpy as np\n",
        "import pandas as pd\n",
        "import matplotlib.pyplot as plt\n",
        "%matplotlib inline\n",
        "import seaborn as sns\n",
        "sns.set()\n",
        "import warnings\n",
        "warnings.filterwarnings('ignore')"
      ],
      "metadata": {
        "id": "FPxswa5Et4pu"
      },
      "execution_count": 1,
      "outputs": []
    },
    {
      "cell_type": "code",
      "source": [
        "df=pd.read_csv('/content/spam.tsv',sep='\\t')\n",
        "df.head()"
      ],
      "metadata": {
        "colab": {
          "base_uri": "https://localhost:8080/",
          "height": 206
        },
        "id": "iEGdQxVwt4nY",
        "outputId": "ea09c1c2-c1e7-42ae-af66-fd8c3aafca01"
      },
      "execution_count": 2,
      "outputs": [
        {
          "output_type": "execute_result",
          "data": {
            "text/plain": [
              "  label                                            message  length  punct\n",
              "0   ham  Go until jurong point, crazy.. Available only ...     111      9\n",
              "1   ham                      Ok lar... Joking wif u oni...      29      6\n",
              "2  spam  Free entry in 2 a wkly comp to win FA Cup fina...     155      6\n",
              "3   ham  U dun say so early hor... U c already then say...      49      6\n",
              "4   ham  Nah I don't think he goes to usf, he lives aro...      61      2"
            ],
            "text/html": [
              "\n",
              "  <div id=\"df-b7153c08-f6c4-471a-aa8e-7259a0e1e49d\">\n",
              "    <div class=\"colab-df-container\">\n",
              "      <div>\n",
              "<style scoped>\n",
              "    .dataframe tbody tr th:only-of-type {\n",
              "        vertical-align: middle;\n",
              "    }\n",
              "\n",
              "    .dataframe tbody tr th {\n",
              "        vertical-align: top;\n",
              "    }\n",
              "\n",
              "    .dataframe thead th {\n",
              "        text-align: right;\n",
              "    }\n",
              "</style>\n",
              "<table border=\"1\" class=\"dataframe\">\n",
              "  <thead>\n",
              "    <tr style=\"text-align: right;\">\n",
              "      <th></th>\n",
              "      <th>label</th>\n",
              "      <th>message</th>\n",
              "      <th>length</th>\n",
              "      <th>punct</th>\n",
              "    </tr>\n",
              "  </thead>\n",
              "  <tbody>\n",
              "    <tr>\n",
              "      <th>0</th>\n",
              "      <td>ham</td>\n",
              "      <td>Go until jurong point, crazy.. Available only ...</td>\n",
              "      <td>111</td>\n",
              "      <td>9</td>\n",
              "    </tr>\n",
              "    <tr>\n",
              "      <th>1</th>\n",
              "      <td>ham</td>\n",
              "      <td>Ok lar... Joking wif u oni...</td>\n",
              "      <td>29</td>\n",
              "      <td>6</td>\n",
              "    </tr>\n",
              "    <tr>\n",
              "      <th>2</th>\n",
              "      <td>spam</td>\n",
              "      <td>Free entry in 2 a wkly comp to win FA Cup fina...</td>\n",
              "      <td>155</td>\n",
              "      <td>6</td>\n",
              "    </tr>\n",
              "    <tr>\n",
              "      <th>3</th>\n",
              "      <td>ham</td>\n",
              "      <td>U dun say so early hor... U c already then say...</td>\n",
              "      <td>49</td>\n",
              "      <td>6</td>\n",
              "    </tr>\n",
              "    <tr>\n",
              "      <th>4</th>\n",
              "      <td>ham</td>\n",
              "      <td>Nah I don't think he goes to usf, he lives aro...</td>\n",
              "      <td>61</td>\n",
              "      <td>2</td>\n",
              "    </tr>\n",
              "  </tbody>\n",
              "</table>\n",
              "</div>\n",
              "      <button class=\"colab-df-convert\" onclick=\"convertToInteractive('df-b7153c08-f6c4-471a-aa8e-7259a0e1e49d')\"\n",
              "              title=\"Convert this dataframe to an interactive table.\"\n",
              "              style=\"display:none;\">\n",
              "        \n",
              "  <svg xmlns=\"http://www.w3.org/2000/svg\" height=\"24px\"viewBox=\"0 0 24 24\"\n",
              "       width=\"24px\">\n",
              "    <path d=\"M0 0h24v24H0V0z\" fill=\"none\"/>\n",
              "    <path d=\"M18.56 5.44l.94 2.06.94-2.06 2.06-.94-2.06-.94-.94-2.06-.94 2.06-2.06.94zm-11 1L8.5 8.5l.94-2.06 2.06-.94-2.06-.94L8.5 2.5l-.94 2.06-2.06.94zm10 10l.94 2.06.94-2.06 2.06-.94-2.06-.94-.94-2.06-.94 2.06-2.06.94z\"/><path d=\"M17.41 7.96l-1.37-1.37c-.4-.4-.92-.59-1.43-.59-.52 0-1.04.2-1.43.59L10.3 9.45l-7.72 7.72c-.78.78-.78 2.05 0 2.83L4 21.41c.39.39.9.59 1.41.59.51 0 1.02-.2 1.41-.59l7.78-7.78 2.81-2.81c.8-.78.8-2.07 0-2.86zM5.41 20L4 18.59l7.72-7.72 1.47 1.35L5.41 20z\"/>\n",
              "  </svg>\n",
              "      </button>\n",
              "      \n",
              "  <style>\n",
              "    .colab-df-container {\n",
              "      display:flex;\n",
              "      flex-wrap:wrap;\n",
              "      gap: 12px;\n",
              "    }\n",
              "\n",
              "    .colab-df-convert {\n",
              "      background-color: #E8F0FE;\n",
              "      border: none;\n",
              "      border-radius: 50%;\n",
              "      cursor: pointer;\n",
              "      display: none;\n",
              "      fill: #1967D2;\n",
              "      height: 32px;\n",
              "      padding: 0 0 0 0;\n",
              "      width: 32px;\n",
              "    }\n",
              "\n",
              "    .colab-df-convert:hover {\n",
              "      background-color: #E2EBFA;\n",
              "      box-shadow: 0px 1px 2px rgba(60, 64, 67, 0.3), 0px 1px 3px 1px rgba(60, 64, 67, 0.15);\n",
              "      fill: #174EA6;\n",
              "    }\n",
              "\n",
              "    [theme=dark] .colab-df-convert {\n",
              "      background-color: #3B4455;\n",
              "      fill: #D2E3FC;\n",
              "    }\n",
              "\n",
              "    [theme=dark] .colab-df-convert:hover {\n",
              "      background-color: #434B5C;\n",
              "      box-shadow: 0px 1px 3px 1px rgba(0, 0, 0, 0.15);\n",
              "      filter: drop-shadow(0px 1px 2px rgba(0, 0, 0, 0.3));\n",
              "      fill: #FFFFFF;\n",
              "    }\n",
              "  </style>\n",
              "\n",
              "      <script>\n",
              "        const buttonEl =\n",
              "          document.querySelector('#df-b7153c08-f6c4-471a-aa8e-7259a0e1e49d button.colab-df-convert');\n",
              "        buttonEl.style.display =\n",
              "          google.colab.kernel.accessAllowed ? 'block' : 'none';\n",
              "\n",
              "        async function convertToInteractive(key) {\n",
              "          const element = document.querySelector('#df-b7153c08-f6c4-471a-aa8e-7259a0e1e49d');\n",
              "          const dataTable =\n",
              "            await google.colab.kernel.invokeFunction('convertToInteractive',\n",
              "                                                     [key], {});\n",
              "          if (!dataTable) return;\n",
              "\n",
              "          const docLinkHtml = 'Like what you see? Visit the ' +\n",
              "            '<a target=\"_blank\" href=https://colab.research.google.com/notebooks/data_table.ipynb>data table notebook</a>'\n",
              "            + ' to learn more about interactive tables.';\n",
              "          element.innerHTML = '';\n",
              "          dataTable['output_type'] = 'display_data';\n",
              "          await google.colab.output.renderOutput(dataTable, element);\n",
              "          const docLink = document.createElement('div');\n",
              "          docLink.innerHTML = docLinkHtml;\n",
              "          element.appendChild(docLink);\n",
              "        }\n",
              "      </script>\n",
              "    </div>\n",
              "  </div>\n",
              "  "
            ]
          },
          "metadata": {},
          "execution_count": 2
        }
      ]
    },
    {
      "cell_type": "code",
      "source": [
        "df.isnull().sum()"
      ],
      "metadata": {
        "colab": {
          "base_uri": "https://localhost:8080/"
        },
        "id": "yROcmlcdt4kf",
        "outputId": "60ac221e-841b-47d5-fc9b-1b68594ec395"
      },
      "execution_count": 3,
      "outputs": [
        {
          "output_type": "execute_result",
          "data": {
            "text/plain": [
              "label      0\n",
              "message    0\n",
              "length     0\n",
              "punct      0\n",
              "dtype: int64"
            ]
          },
          "metadata": {},
          "execution_count": 3
        }
      ]
    },
    {
      "cell_type": "code",
      "source": [
        "df.info()"
      ],
      "metadata": {
        "colab": {
          "base_uri": "https://localhost:8080/"
        },
        "id": "y5o6GVzDt4iA",
        "outputId": "063ce11e-4ce8-41e9-9d55-b00f3c14ec18"
      },
      "execution_count": 4,
      "outputs": [
        {
          "output_type": "stream",
          "name": "stdout",
          "text": [
            "<class 'pandas.core.frame.DataFrame'>\n",
            "RangeIndex: 5572 entries, 0 to 5571\n",
            "Data columns (total 4 columns):\n",
            " #   Column   Non-Null Count  Dtype \n",
            "---  ------   --------------  ----- \n",
            " 0   label    5572 non-null   object\n",
            " 1   message  5572 non-null   object\n",
            " 2   length   5572 non-null   int64 \n",
            " 3   punct    5572 non-null   int64 \n",
            "dtypes: int64(2), object(2)\n",
            "memory usage: 174.2+ KB\n"
          ]
        }
      ]
    },
    {
      "cell_type": "code",
      "source": [
        "df.describe()"
      ],
      "metadata": {
        "colab": {
          "base_uri": "https://localhost:8080/",
          "height": 300
        },
        "id": "hINYDgg3t4fH",
        "outputId": "a18ae94b-c536-441a-b65d-7a0d11564069"
      },
      "execution_count": 5,
      "outputs": [
        {
          "output_type": "execute_result",
          "data": {
            "text/plain": [
              "            length        punct\n",
              "count  5572.000000  5572.000000\n",
              "mean     80.489950     4.177495\n",
              "std      59.942907     4.623919\n",
              "min       2.000000     0.000000\n",
              "25%      36.000000     2.000000\n",
              "50%      62.000000     3.000000\n",
              "75%     122.000000     6.000000\n",
              "max     910.000000   133.000000"
            ],
            "text/html": [
              "\n",
              "  <div id=\"df-ecc1534d-c2a4-4f3b-95be-e40f62f79463\">\n",
              "    <div class=\"colab-df-container\">\n",
              "      <div>\n",
              "<style scoped>\n",
              "    .dataframe tbody tr th:only-of-type {\n",
              "        vertical-align: middle;\n",
              "    }\n",
              "\n",
              "    .dataframe tbody tr th {\n",
              "        vertical-align: top;\n",
              "    }\n",
              "\n",
              "    .dataframe thead th {\n",
              "        text-align: right;\n",
              "    }\n",
              "</style>\n",
              "<table border=\"1\" class=\"dataframe\">\n",
              "  <thead>\n",
              "    <tr style=\"text-align: right;\">\n",
              "      <th></th>\n",
              "      <th>length</th>\n",
              "      <th>punct</th>\n",
              "    </tr>\n",
              "  </thead>\n",
              "  <tbody>\n",
              "    <tr>\n",
              "      <th>count</th>\n",
              "      <td>5572.000000</td>\n",
              "      <td>5572.000000</td>\n",
              "    </tr>\n",
              "    <tr>\n",
              "      <th>mean</th>\n",
              "      <td>80.489950</td>\n",
              "      <td>4.177495</td>\n",
              "    </tr>\n",
              "    <tr>\n",
              "      <th>std</th>\n",
              "      <td>59.942907</td>\n",
              "      <td>4.623919</td>\n",
              "    </tr>\n",
              "    <tr>\n",
              "      <th>min</th>\n",
              "      <td>2.000000</td>\n",
              "      <td>0.000000</td>\n",
              "    </tr>\n",
              "    <tr>\n",
              "      <th>25%</th>\n",
              "      <td>36.000000</td>\n",
              "      <td>2.000000</td>\n",
              "    </tr>\n",
              "    <tr>\n",
              "      <th>50%</th>\n",
              "      <td>62.000000</td>\n",
              "      <td>3.000000</td>\n",
              "    </tr>\n",
              "    <tr>\n",
              "      <th>75%</th>\n",
              "      <td>122.000000</td>\n",
              "      <td>6.000000</td>\n",
              "    </tr>\n",
              "    <tr>\n",
              "      <th>max</th>\n",
              "      <td>910.000000</td>\n",
              "      <td>133.000000</td>\n",
              "    </tr>\n",
              "  </tbody>\n",
              "</table>\n",
              "</div>\n",
              "      <button class=\"colab-df-convert\" onclick=\"convertToInteractive('df-ecc1534d-c2a4-4f3b-95be-e40f62f79463')\"\n",
              "              title=\"Convert this dataframe to an interactive table.\"\n",
              "              style=\"display:none;\">\n",
              "        \n",
              "  <svg xmlns=\"http://www.w3.org/2000/svg\" height=\"24px\"viewBox=\"0 0 24 24\"\n",
              "       width=\"24px\">\n",
              "    <path d=\"M0 0h24v24H0V0z\" fill=\"none\"/>\n",
              "    <path d=\"M18.56 5.44l.94 2.06.94-2.06 2.06-.94-2.06-.94-.94-2.06-.94 2.06-2.06.94zm-11 1L8.5 8.5l.94-2.06 2.06-.94-2.06-.94L8.5 2.5l-.94 2.06-2.06.94zm10 10l.94 2.06.94-2.06 2.06-.94-2.06-.94-.94-2.06-.94 2.06-2.06.94z\"/><path d=\"M17.41 7.96l-1.37-1.37c-.4-.4-.92-.59-1.43-.59-.52 0-1.04.2-1.43.59L10.3 9.45l-7.72 7.72c-.78.78-.78 2.05 0 2.83L4 21.41c.39.39.9.59 1.41.59.51 0 1.02-.2 1.41-.59l7.78-7.78 2.81-2.81c.8-.78.8-2.07 0-2.86zM5.41 20L4 18.59l7.72-7.72 1.47 1.35L5.41 20z\"/>\n",
              "  </svg>\n",
              "      </button>\n",
              "      \n",
              "  <style>\n",
              "    .colab-df-container {\n",
              "      display:flex;\n",
              "      flex-wrap:wrap;\n",
              "      gap: 12px;\n",
              "    }\n",
              "\n",
              "    .colab-df-convert {\n",
              "      background-color: #E8F0FE;\n",
              "      border: none;\n",
              "      border-radius: 50%;\n",
              "      cursor: pointer;\n",
              "      display: none;\n",
              "      fill: #1967D2;\n",
              "      height: 32px;\n",
              "      padding: 0 0 0 0;\n",
              "      width: 32px;\n",
              "    }\n",
              "\n",
              "    .colab-df-convert:hover {\n",
              "      background-color: #E2EBFA;\n",
              "      box-shadow: 0px 1px 2px rgba(60, 64, 67, 0.3), 0px 1px 3px 1px rgba(60, 64, 67, 0.15);\n",
              "      fill: #174EA6;\n",
              "    }\n",
              "\n",
              "    [theme=dark] .colab-df-convert {\n",
              "      background-color: #3B4455;\n",
              "      fill: #D2E3FC;\n",
              "    }\n",
              "\n",
              "    [theme=dark] .colab-df-convert:hover {\n",
              "      background-color: #434B5C;\n",
              "      box-shadow: 0px 1px 3px 1px rgba(0, 0, 0, 0.15);\n",
              "      filter: drop-shadow(0px 1px 2px rgba(0, 0, 0, 0.3));\n",
              "      fill: #FFFFFF;\n",
              "    }\n",
              "  </style>\n",
              "\n",
              "      <script>\n",
              "        const buttonEl =\n",
              "          document.querySelector('#df-ecc1534d-c2a4-4f3b-95be-e40f62f79463 button.colab-df-convert');\n",
              "        buttonEl.style.display =\n",
              "          google.colab.kernel.accessAllowed ? 'block' : 'none';\n",
              "\n",
              "        async function convertToInteractive(key) {\n",
              "          const element = document.querySelector('#df-ecc1534d-c2a4-4f3b-95be-e40f62f79463');\n",
              "          const dataTable =\n",
              "            await google.colab.kernel.invokeFunction('convertToInteractive',\n",
              "                                                     [key], {});\n",
              "          if (!dataTable) return;\n",
              "\n",
              "          const docLinkHtml = 'Like what you see? Visit the ' +\n",
              "            '<a target=\"_blank\" href=https://colab.research.google.com/notebooks/data_table.ipynb>data table notebook</a>'\n",
              "            + ' to learn more about interactive tables.';\n",
              "          element.innerHTML = '';\n",
              "          dataTable['output_type'] = 'display_data';\n",
              "          await google.colab.output.renderOutput(dataTable, element);\n",
              "          const docLink = document.createElement('div');\n",
              "          docLink.innerHTML = docLinkHtml;\n",
              "          element.appendChild(docLink);\n",
              "        }\n",
              "      </script>\n",
              "    </div>\n",
              "  </div>\n",
              "  "
            ]
          },
          "metadata": {},
          "execution_count": 5
        }
      ]
    },
    {
      "cell_type": "code",
      "source": [
        "# Check imbalance \n",
        "df['label'].value_counts()/(len(df))*100"
      ],
      "metadata": {
        "colab": {
          "base_uri": "https://localhost:8080/"
        },
        "id": "NgnOeolzt4cf",
        "outputId": "4c9032e7-de63-432c-fb16-236988b4ad11"
      },
      "execution_count": 6,
      "outputs": [
        {
          "output_type": "execute_result",
          "data": {
            "text/plain": [
              "ham     86.593683\n",
              "spam    13.406317\n",
              "Name: label, dtype: float64"
            ]
          },
          "metadata": {},
          "execution_count": 6
        }
      ]
    },
    {
      "cell_type": "code",
      "source": [
        "ham=df[df['label']=='ham']\n",
        "spam=df[df['label']=='spam']"
      ],
      "metadata": {
        "id": "Vq2yxa_pt4aB"
      },
      "execution_count": 7,
      "outputs": []
    },
    {
      "cell_type": "code",
      "source": [
        "ham.shape, spam.shape"
      ],
      "metadata": {
        "colab": {
          "base_uri": "https://localhost:8080/"
        },
        "id": "ZLPZRuQ4t4Xg",
        "outputId": "ee73ccc3-0e72-4e12-ea3e-9930b2967b51"
      },
      "execution_count": 8,
      "outputs": [
        {
          "output_type": "execute_result",
          "data": {
            "text/plain": [
              "((4825, 4), (747, 4))"
            ]
          },
          "metadata": {},
          "execution_count": 8
        }
      ]
    },
    {
      "cell_type": "code",
      "source": [
        "# Oversampling: ham=4825, spam=4825, total=9650\n",
        "# Undersampling: ham=747, spam=747, total=1494"
      ],
      "metadata": {
        "id": "1PNqp2dpt4Ux"
      },
      "execution_count": 9,
      "outputs": []
    },
    {
      "cell_type": "code",
      "source": [
        "ham.shape[0], ham.shape[1]"
      ],
      "metadata": {
        "colab": {
          "base_uri": "https://localhost:8080/"
        },
        "id": "Zs5IsbIFw-b_",
        "outputId": "6a218a0b-d3d4-45c1-8734-bb6302dd40c0"
      },
      "execution_count": 10,
      "outputs": [
        {
          "output_type": "execute_result",
          "data": {
            "text/plain": [
              "(4825, 4)"
            ]
          },
          "metadata": {},
          "execution_count": 10
        }
      ]
    },
    {
      "cell_type": "code",
      "source": [
        "# Undersampling\n",
        "ham=ham.sample(spam.shape[0],replace=True)\n",
        "spam.shape,ham.shape"
      ],
      "metadata": {
        "colab": {
          "base_uri": "https://localhost:8080/"
        },
        "id": "6qNSJn_It4SK",
        "outputId": "614b5729-0362-430b-8449-c9888deeb9c9"
      },
      "execution_count": 11,
      "outputs": [
        {
          "output_type": "execute_result",
          "data": {
            "text/plain": [
              "((747, 4), (747, 4))"
            ]
          },
          "metadata": {},
          "execution_count": 11
        }
      ]
    },
    {
      "cell_type": "markdown",
      "source": [
        "Data is balanced now. Now combine both dataframes."
      ],
      "metadata": {
        "id": "alK7IL6dx6Og"
      }
    },
    {
      "cell_type": "code",
      "source": [
        "data=ham.append(spam,ignore_index=True)\n",
        "data.head()"
      ],
      "metadata": {
        "colab": {
          "base_uri": "https://localhost:8080/",
          "height": 206
        },
        "id": "kwHCuFw1t4PH",
        "outputId": "686a2a83-a096-4cf1-b44b-556579a23b0b"
      },
      "execution_count": 12,
      "outputs": [
        {
          "output_type": "execute_result",
          "data": {
            "text/plain": [
              "  label                                            message  length  punct\n",
              "0   ham  We know TAJ MAHAL as symbol of love. But the o...     322     24\n",
              "1   ham                   Yeah I can still give you a ride      32      0\n",
              "2   ham  Been up to ne thing interesting. Did you have ...     106      4\n",
              "3   ham  I like cheap! But i‘m happy to splash out on t...      83      3\n",
              "4   ham  Single line with a big meaning::::: \"Miss anyt...     123     16"
            ],
            "text/html": [
              "\n",
              "  <div id=\"df-47ca6442-05a2-4606-8922-756452241a13\">\n",
              "    <div class=\"colab-df-container\">\n",
              "      <div>\n",
              "<style scoped>\n",
              "    .dataframe tbody tr th:only-of-type {\n",
              "        vertical-align: middle;\n",
              "    }\n",
              "\n",
              "    .dataframe tbody tr th {\n",
              "        vertical-align: top;\n",
              "    }\n",
              "\n",
              "    .dataframe thead th {\n",
              "        text-align: right;\n",
              "    }\n",
              "</style>\n",
              "<table border=\"1\" class=\"dataframe\">\n",
              "  <thead>\n",
              "    <tr style=\"text-align: right;\">\n",
              "      <th></th>\n",
              "      <th>label</th>\n",
              "      <th>message</th>\n",
              "      <th>length</th>\n",
              "      <th>punct</th>\n",
              "    </tr>\n",
              "  </thead>\n",
              "  <tbody>\n",
              "    <tr>\n",
              "      <th>0</th>\n",
              "      <td>ham</td>\n",
              "      <td>We know TAJ MAHAL as symbol of love. But the o...</td>\n",
              "      <td>322</td>\n",
              "      <td>24</td>\n",
              "    </tr>\n",
              "    <tr>\n",
              "      <th>1</th>\n",
              "      <td>ham</td>\n",
              "      <td>Yeah I can still give you a ride</td>\n",
              "      <td>32</td>\n",
              "      <td>0</td>\n",
              "    </tr>\n",
              "    <tr>\n",
              "      <th>2</th>\n",
              "      <td>ham</td>\n",
              "      <td>Been up to ne thing interesting. Did you have ...</td>\n",
              "      <td>106</td>\n",
              "      <td>4</td>\n",
              "    </tr>\n",
              "    <tr>\n",
              "      <th>3</th>\n",
              "      <td>ham</td>\n",
              "      <td>I like cheap! But i‘m happy to splash out on t...</td>\n",
              "      <td>83</td>\n",
              "      <td>3</td>\n",
              "    </tr>\n",
              "    <tr>\n",
              "      <th>4</th>\n",
              "      <td>ham</td>\n",
              "      <td>Single line with a big meaning::::: \"Miss anyt...</td>\n",
              "      <td>123</td>\n",
              "      <td>16</td>\n",
              "    </tr>\n",
              "  </tbody>\n",
              "</table>\n",
              "</div>\n",
              "      <button class=\"colab-df-convert\" onclick=\"convertToInteractive('df-47ca6442-05a2-4606-8922-756452241a13')\"\n",
              "              title=\"Convert this dataframe to an interactive table.\"\n",
              "              style=\"display:none;\">\n",
              "        \n",
              "  <svg xmlns=\"http://www.w3.org/2000/svg\" height=\"24px\"viewBox=\"0 0 24 24\"\n",
              "       width=\"24px\">\n",
              "    <path d=\"M0 0h24v24H0V0z\" fill=\"none\"/>\n",
              "    <path d=\"M18.56 5.44l.94 2.06.94-2.06 2.06-.94-2.06-.94-.94-2.06-.94 2.06-2.06.94zm-11 1L8.5 8.5l.94-2.06 2.06-.94-2.06-.94L8.5 2.5l-.94 2.06-2.06.94zm10 10l.94 2.06.94-2.06 2.06-.94-2.06-.94-.94-2.06-.94 2.06-2.06.94z\"/><path d=\"M17.41 7.96l-1.37-1.37c-.4-.4-.92-.59-1.43-.59-.52 0-1.04.2-1.43.59L10.3 9.45l-7.72 7.72c-.78.78-.78 2.05 0 2.83L4 21.41c.39.39.9.59 1.41.59.51 0 1.02-.2 1.41-.59l7.78-7.78 2.81-2.81c.8-.78.8-2.07 0-2.86zM5.41 20L4 18.59l7.72-7.72 1.47 1.35L5.41 20z\"/>\n",
              "  </svg>\n",
              "      </button>\n",
              "      \n",
              "  <style>\n",
              "    .colab-df-container {\n",
              "      display:flex;\n",
              "      flex-wrap:wrap;\n",
              "      gap: 12px;\n",
              "    }\n",
              "\n",
              "    .colab-df-convert {\n",
              "      background-color: #E8F0FE;\n",
              "      border: none;\n",
              "      border-radius: 50%;\n",
              "      cursor: pointer;\n",
              "      display: none;\n",
              "      fill: #1967D2;\n",
              "      height: 32px;\n",
              "      padding: 0 0 0 0;\n",
              "      width: 32px;\n",
              "    }\n",
              "\n",
              "    .colab-df-convert:hover {\n",
              "      background-color: #E2EBFA;\n",
              "      box-shadow: 0px 1px 2px rgba(60, 64, 67, 0.3), 0px 1px 3px 1px rgba(60, 64, 67, 0.15);\n",
              "      fill: #174EA6;\n",
              "    }\n",
              "\n",
              "    [theme=dark] .colab-df-convert {\n",
              "      background-color: #3B4455;\n",
              "      fill: #D2E3FC;\n",
              "    }\n",
              "\n",
              "    [theme=dark] .colab-df-convert:hover {\n",
              "      background-color: #434B5C;\n",
              "      box-shadow: 0px 1px 3px 1px rgba(0, 0, 0, 0.15);\n",
              "      filter: drop-shadow(0px 1px 2px rgba(0, 0, 0, 0.3));\n",
              "      fill: #FFFFFF;\n",
              "    }\n",
              "  </style>\n",
              "\n",
              "      <script>\n",
              "        const buttonEl =\n",
              "          document.querySelector('#df-47ca6442-05a2-4606-8922-756452241a13 button.colab-df-convert');\n",
              "        buttonEl.style.display =\n",
              "          google.colab.kernel.accessAllowed ? 'block' : 'none';\n",
              "\n",
              "        async function convertToInteractive(key) {\n",
              "          const element = document.querySelector('#df-47ca6442-05a2-4606-8922-756452241a13');\n",
              "          const dataTable =\n",
              "            await google.colab.kernel.invokeFunction('convertToInteractive',\n",
              "                                                     [key], {});\n",
              "          if (!dataTable) return;\n",
              "\n",
              "          const docLinkHtml = 'Like what you see? Visit the ' +\n",
              "            '<a target=\"_blank\" href=https://colab.research.google.com/notebooks/data_table.ipynb>data table notebook</a>'\n",
              "            + ' to learn more about interactive tables.';\n",
              "          element.innerHTML = '';\n",
              "          dataTable['output_type'] = 'display_data';\n",
              "          await google.colab.output.renderOutput(dataTable, element);\n",
              "          const docLink = document.createElement('div');\n",
              "          docLink.innerHTML = docLinkHtml;\n",
              "          element.appendChild(docLink);\n",
              "        }\n",
              "      </script>\n",
              "    </div>\n",
              "  </div>\n",
              "  "
            ]
          },
          "metadata": {},
          "execution_count": 12
        }
      ]
    },
    {
      "cell_type": "code",
      "source": [
        "# Visualization by using ham and spam\n",
        "\n",
        "plt.hist(data[data['label']=='ham']['punct'],bins=100,alpha=0.7)\n",
        "plt.hist(data[data['label']=='spam']['punct'],bins=100,alpha=0.8)"
      ],
      "metadata": {
        "colab": {
          "base_uri": "https://localhost:8080/",
          "height": 835
        },
        "id": "lvoY3UPwt4Mm",
        "outputId": "41c1f941-6efb-4478-84d2-3f6787dcab19"
      },
      "execution_count": 13,
      "outputs": [
        {
          "output_type": "execute_result",
          "data": {
            "text/plain": [
              "(array([ 23.,   0.,   0.,  26.,   0.,   0.,   0.,  73.,   0.,   0.,   0.,\n",
              "        115.,   0.,   0.,   0.,  77.,   0.,   0.,   0.,  67.,   0.,   0.,\n",
              "          0.,  86.,   0.,   0.,  74.,   0.,   0.,   0.,  66.,   0.,   0.,\n",
              "          0.,  49.,   0.,   0.,   0.,  27.,   0.,   0.,   0.,  17.,   0.,\n",
              "          0.,   0.,  22.,   0.,   0.,   0.,  14.,   0.,   0.,   2.,   0.,\n",
              "          0.,   0.,   2.,   0.,   0.,   0.,   1.,   0.,   0.,   0.,   0.,\n",
              "          0.,   0.,   0.,   2.,   0.,   0.,   0.,   1.,   0.,   0.,   0.,\n",
              "          0.,   0.,   0.,   0.,   0.,   0.,   0.,   1.,   0.,   0.,   0.,\n",
              "          0.,   0.,   0.,   0.,   1.,   0.,   0.,   0.,   0.,   0.,   0.,\n",
              "          1.]),\n",
              " array([ 0.  ,  0.26,  0.52,  0.78,  1.04,  1.3 ,  1.56,  1.82,  2.08,\n",
              "         2.34,  2.6 ,  2.86,  3.12,  3.38,  3.64,  3.9 ,  4.16,  4.42,\n",
              "         4.68,  4.94,  5.2 ,  5.46,  5.72,  5.98,  6.24,  6.5 ,  6.76,\n",
              "         7.02,  7.28,  7.54,  7.8 ,  8.06,  8.32,  8.58,  8.84,  9.1 ,\n",
              "         9.36,  9.62,  9.88, 10.14, 10.4 , 10.66, 10.92, 11.18, 11.44,\n",
              "        11.7 , 11.96, 12.22, 12.48, 12.74, 13.  , 13.26, 13.52, 13.78,\n",
              "        14.04, 14.3 , 14.56, 14.82, 15.08, 15.34, 15.6 , 15.86, 16.12,\n",
              "        16.38, 16.64, 16.9 , 17.16, 17.42, 17.68, 17.94, 18.2 , 18.46,\n",
              "        18.72, 18.98, 19.24, 19.5 , 19.76, 20.02, 20.28, 20.54, 20.8 ,\n",
              "        21.06, 21.32, 21.58, 21.84, 22.1 , 22.36, 22.62, 22.88, 23.14,\n",
              "        23.4 , 23.66, 23.92, 24.18, 24.44, 24.7 , 24.96, 25.22, 25.48,\n",
              "        25.74, 26.  ]),\n",
              " <BarContainer object of 100 artists>)"
            ]
          },
          "metadata": {},
          "execution_count": 13
        },
        {
          "output_type": "display_data",
          "data": {
            "text/plain": [
              "<Figure size 640x480 with 1 Axes>"
            ],
            "image/png": "[encoded data removed]"
          },
          "metadata": {}
        }
      ]
    },
    {
      "cell_type": "code",
      "source": [
        "plt.hist(data[data['label']=='ham']['length'],bins=100,alpha=0.7)\n",
        "plt.hist(data[data['label']=='spam']['length'],bins=100,alpha=0.8)"
      ],
      "metadata": {
        "colab": {
          "base_uri": "https://localhost:8080/",
          "height": 798
        },
        "id": "t94jOgzBt4J4",
        "outputId": "b187dec0-cfe4-4a87-a42b-50d9a181f698"
      },
      "execution_count": 14,
      "outputs": [
        {
          "output_type": "execute_result",
          "data": {
            "text/plain": [
              "(array([ 1.,  0.,  1.,  0.,  0.,  1.,  0.,  0.,  1.,  3.,  0.,  1.,  1.,\n",
              "         2.,  1.,  1.,  4.,  4.,  2.,  0.,  0.,  1.,  0.,  1.,  3.,  1.,\n",
              "         4.,  4.,  6.,  3.,  2.,  0.,  6.,  2.,  3.,  0.,  5.,  0.,  1.,\n",
              "         5.,  4.,  9.,  2.,  4.,  9.,  6.,  6.,  3., 10.,  1., 11., 10.,\n",
              "         5., 10.,  3., 10., 13., 14., 27., 18., 23., 25., 27., 32., 32.,\n",
              "        18., 49., 58., 68., 76., 65.,  6.,  8.,  1.,  2.,  2.,  2.,  2.,\n",
              "         1.,  0.,  3.,  0.,  0.,  0.,  0.,  0.,  0.,  1.,  0.,  0.,  0.,\n",
              "         0.,  0.,  0.,  0.,  0.,  0.,  0.,  0.,  1.]),\n",
              " array([ 13. ,  15.1,  17.2,  19.3,  21.4,  23.5,  25.6,  27.7,  29.8,\n",
              "         31.9,  34. ,  36.1,  38.2,  40.3,  42.4,  44.5,  46.6,  48.7,\n",
              "         50.8,  52.9,  55. ,  57.1,  59.2,  61.3,  63.4,  65.5,  67.6,\n",
              "         69.7,  71.8,  73.9,  76. ,  78.1,  80.2,  82.3,  84.4,  86.5,\n",
              "         88.6,  90.7,  92.8,  94.9,  97. ,  99.1, 101.2, 103.3, 105.4,\n",
              "        107.5, 109.6, 111.7, 113.8, 115.9, 118. , 120.1, 122.2, 124.3,\n",
              "        126.4, 128.5, 130.6, 132.7, 134.8, 136.9, 139. , 141.1, 143.2,\n",
              "        145.3, 147.4, 149.5, 151.6, 153.7, 155.8, 157.9, 160. , 162.1,\n",
              "        164.2, 166.3, 168.4, 170.5, 172.6, 174.7, 176.8, 178.9, 181. ,\n",
              "        183.1, 185.2, 187.3, 189.4, 191.5, 193.6, 195.7, 197.8, 199.9,\n",
              "        202. , 204.1, 206.2, 208.3, 210.4, 212.5, 214.6, 216.7, 218.8,\n",
              "        220.9, 223. ]),\n",
              " <BarContainer object of 100 artists>)"
            ]
          },
          "metadata": {},
          "execution_count": 14
        },
        {
          "output_type": "display_data",
          "data": {
            "text/plain": [
              "<Figure size 640x480 with 1 Axes>"
            ],
            "image/png": "[encoded data removed]"
          },
          "metadata": {}
        }
      ]
    },
    {
      "cell_type": "code",
      "source": [
        "data.columns"
      ],
      "metadata": {
        "colab": {
          "base_uri": "https://localhost:8080/"
        },
        "id": "jpl-Pcfet4HA",
        "outputId": "52208d2c-f24d-4c68-e065-068c55249983"
      },
      "execution_count": 15,
      "outputs": [
        {
          "output_type": "execute_result",
          "data": {
            "text/plain": [
              "Index(['label', 'message', 'length', 'punct'], dtype='object')"
            ]
          },
          "metadata": {},
          "execution_count": 15
        }
      ]
    },
    {
      "cell_type": "code",
      "source": [
        "# Split the data into train and test\n",
        "\n",
        "from sklearn.model_selection import train_test_split\n",
        "x_train,x_test,y_train,y_test=train_test_split(data['message'],data['label'],test_size=0.3,random_state=101)"
      ],
      "metadata": {
        "id": "v0NhAu25t4Dp"
      },
      "execution_count": 16,
      "outputs": []
    },
    {
      "cell_type": "code",
      "source": [
        "1494*0.3"
      ],
      "metadata": {
        "colab": {
          "base_uri": "https://localhost:8080/"
        },
        "id": "bqGfT3cq0voe",
        "outputId": "ad260c61-fde8-4384-80d3-d0d1bea4b7b0"
      },
      "execution_count": 17,
      "outputs": [
        {
          "output_type": "execute_result",
          "data": {
            "text/plain": [
              "448.2"
            ]
          },
          "metadata": {},
          "execution_count": 17
        }
      ]
    },
    {
      "cell_type": "code",
      "source": [
        "print(x_train.shape,x_test.shape,y_train.shape,y_test.shape)"
      ],
      "metadata": {
        "colab": {
          "base_uri": "https://localhost:8080/"
        },
        "id": "Eta6pTc1t4AQ",
        "outputId": "a65dd584-5f2b-4e60-fe92-2e06590b355b"
      },
      "execution_count": 18,
      "outputs": [
        {
          "output_type": "stream",
          "name": "stdout",
          "text": [
            "(1045,) (449,) (1045,) (449,)\n"
          ]
        }
      ]
    },
    {
      "cell_type": "markdown",
      "source": [
        "Building Classification Model"
      ],
      "metadata": {
        "id": "OL5LcCdB1pEF"
      }
    },
    {
      "cell_type": "code",
      "source": [
        "from sklearn.feature_extraction.text import TfidfVectorizer\n",
        "\n",
        "# Machine Learning Algorithm\n",
        "from sklearn.ensemble import RandomForestClassifier\n",
        "\n",
        "# Pipeline package to merge nlp and machine learning and get the output\n",
        "from sklearn.pipeline import Pipeline"
      ],
      "metadata": {
        "id": "1N3rG2CW1tou"
      },
      "execution_count": 19,
      "outputs": []
    },
    {
      "cell_type": "code",
      "source": [
        "classifier=Pipeline([('tfidf',TfidfVectorizer()),\n",
        "                     ('classifier',RandomForestClassifier())])"
      ],
      "metadata": {
        "id": "-IhiVJQT1tl1"
      },
      "execution_count": 20,
      "outputs": []
    },
    {
      "cell_type": "code",
      "source": [
        "RandomForestClassifier()"
      ],
      "metadata": {
        "colab": {
          "base_uri": "https://localhost:8080/",
          "height": 74
        },
        "id": "J9k5gxlM1tjQ",
        "outputId": "5e3f47db-a123-417e-dd49-7a123a3b9147"
      },
      "execution_count": 21,
      "outputs": [
        {
          "output_type": "execute_result",
          "data": {
            "text/plain": [
              "RandomForestClassifier()"
            ],
            "text/html": [
              "<style>#sk-container-id-1 {color: black;background-color: white;}#sk-container-id-1 pre{padding: 0;}#sk-container-id-1 div.sk-toggleable {background-color: white;}#sk-container-id-1 label.sk-toggleable__label {cursor: pointer;display: block;width: 100%;margin-bottom: 0;padding: 0.3em;box-sizing: border-box;text-align: center;}#sk-container-id-1 label.sk-toggleable__label-arrow:before {content: \"▸\";float: left;margin-right: 0.25em;color: #696969;}#sk-container-id-1 label.sk-toggleable__label-arrow:hover:before {color: black;}#sk-container-id-1 div.sk-estimator:hover label.sk-toggleable__label-arrow:before {color: black;}#sk-container-id-1 div.sk-toggleable__content {max-height: 0;max-width: 0;overflow: hidden;text-align: left;background-color: #f0f8ff;}#sk-container-id-1 div.sk-toggleable__content pre {margin: 0.2em;color: black;border-radius: 0.25em;background-color: #f0f8ff;}#sk-container-id-1 input.sk-toggleable__control:checked~div.sk-toggleable__content {max-height: 200px;max-width: 100%;overflow: auto;}#sk-container-id-1 input.sk-toggleable__control:checked~label.sk-toggleable__label-arrow:before {content: \"▾\";}#sk-container-id-1 div.sk-estimator input.sk-toggleable__control:checked~label.sk-toggleable__label {background-color: #d4ebff;}#sk-container-id-1 div.sk-label input.sk-toggleable__control:checked~label.sk-toggleable__label {background-color: #d4ebff;}#sk-container-id-1 input.sk-hidden--visually {border: 0;clip: rect(1px 1px 1px 1px);clip: rect(1px, 1px, 1px, 1px);height: 1px;margin: -1px;overflow: hidden;padding: 0;position: absolute;width: 1px;}#sk-container-id-1 div.sk-estimator {font-family: monospace;background-color: #f0f8ff;border: 1px dotted black;border-radius: 0.25em;box-sizing: border-box;margin-bottom: 0.5em;}#sk-container-id-1 div.sk-estimator:hover {background-color: #d4ebff;}#sk-container-id-1 div.sk-parallel-item::after {content: \"\";width: 100%;border-bottom: 1px solid gray;flex-grow: 1;}#sk-container-id-1 div.sk-label:hover label.sk-toggleable__label {background-color: #d4ebff;}#sk-container-id-1 div.sk-serial::before {content: \"\";position: absolute;border-left: 1px solid gray;box-sizing: border-box;top: 0;bottom: 0;left: 50%;z-index: 0;}#sk-container-id-1 div.sk-serial {display: flex;flex-direction: column;align-items: center;background-color: white;padding-right: 0.2em;padding-left: 0.2em;position: relative;}#sk-container-id-1 div.sk-item {position: relative;z-index: 1;}#sk-container-id-1 div.sk-parallel {display: flex;align-items: stretch;justify-content: center;background-color: white;position: relative;}#sk-container-id-1 div.sk-item::before, #sk-container-id-1 div.sk-parallel-item::before {content: \"\";position: absolute;border-left: 1px solid gray;box-sizing: border-box;top: 0;bottom: 0;left: 50%;z-index: -1;}#sk-container-id-1 div.sk-parallel-item {display: flex;flex-direction: column;z-index: 1;position: relative;background-color: white;}#sk-container-id-1 div.sk-parallel-item:first-child::after {align-self: flex-end;width: 50%;}#sk-container-id-1 div.sk-parallel-item:last-child::after {align-self: flex-start;width: 50%;}#sk-container-id-1 div.sk-parallel-item:only-child::after {width: 0;}#sk-container-id-1 div.sk-dashed-wrapped {border: 1px dashed gray;margin: 0 0.4em 0.5em 0.4em;box-sizing: border-box;padding-bottom: 0.4em;background-color: white;}#sk-container-id-1 div.sk-label label {font-family: monospace;font-weight: bold;display: inline-block;line-height: 1.2em;}#sk-container-id-1 div.sk-label-container {text-align: center;}#sk-container-id-1 div.sk-container {/* jupyter's `normalize.less` sets `[hidden] { display: none; }` but bootstrap.min.css set `[hidden] { display: none !important; }` so we also need the `!important` here to be able to override the default hidden behavior on the sphinx rendered scikit-learn.org. See: https://github.com/scikit-learn/scikit-learn/issues/21755 */display: inline-block !important;position: relative;}#sk-container-id-1 div.sk-text-repr-fallback {display: none;}</style><div id=\"sk-container-id-1\" class=\"sk-top-container\"><div class=\"sk-text-repr-fallback\"><pre>RandomForestClassifier()</pre><b>In a Jupyter environment, please rerun this cell to show the HTML representation or trust the notebook. <br />On GitHub, the HTML representation is unable to render, please try loading this page with nbviewer.org.</b></div><div class=\"sk-container\" hidden><div class=\"sk-item\"><div class=\"sk-estimator sk-toggleable\"><input class=\"sk-toggleable__control sk-hidden--visually\" id=\"sk-estimator-id-1\" type=\"checkbox\" checked><label for=\"sk-estimator-id-1\" class=\"sk-toggleable__label sk-toggleable__label-arrow\">RandomForestClassifier</label><div class=\"sk-toggleable__content\"><pre>RandomForestClassifier()</pre></div></div></div></div></div>"
            ]
          },
          "metadata": {},
          "execution_count": 21
        }
      ]
    },
    {
      "cell_type": "code",
      "source": [
        "classifier"
      ],
      "metadata": {
        "colab": {
          "base_uri": "https://localhost:8080/",
          "height": 125
        },
        "id": "zOWevITo1tgd",
        "outputId": "f7239448-9113-4875-ec93-7d8674ab1e56"
      },
      "execution_count": 22,
      "outputs": [
        {
          "output_type": "execute_result",
          "data": {
            "text/plain": [
              "Pipeline(steps=[('tfidf', TfidfVectorizer()),\n",
              "                ('classifier', RandomForestClassifier())])"
            ],
            "text/html": [
              "<style>#sk-container-id-2 {color: black;background-color: white;}#sk-container-id-2 pre{padding: 0;}#sk-container-id-2 div.sk-toggleable {background-color: white;}#sk-container-id-2 label.sk-toggleable__label {cursor: pointer;display: block;width: 100%;margin-bottom: 0;padding: 0.3em;box-sizing: border-box;text-align: center;}#sk-container-id-2 label.sk-toggleable__label-arrow:before {content: \"▸\";float: left;margin-right: 0.25em;color: #696969;}#sk-container-id-2 label.sk-toggleable__label-arrow:hover:before {color: black;}#sk-container-id-2 div.sk-estimator:hover label.sk-toggleable__label-arrow:before {color: black;}#sk-container-id-2 div.sk-toggleable__content {max-height: 0;max-width: 0;overflow: hidden;text-align: left;background-color: #f0f8ff;}#sk-container-id-2 div.sk-toggleable__content pre {margin: 0.2em;color: black;border-radius: 0.25em;background-color: #f0f8ff;}#sk-container-id-2 input.sk-toggleable__control:checked~div.sk-toggleable__content {max-height: 200px;max-width: 100%;overflow: auto;}#sk-container-id-2 input.sk-toggleable__control:checked~label.sk-toggleable__label-arrow:before {content: \"▾\";}#sk-container-id-2 div.sk-estimator input.sk-toggleable__control:checked~label.sk-toggleable__label {background-color: #d4ebff;}#sk-container-id-2 div.sk-label input.sk-toggleable__control:checked~label.sk-toggleable__label {background-color: #d4ebff;}#sk-container-id-2 input.sk-hidden--visually {border: 0;clip: rect(1px 1px 1px 1px);clip: rect(1px, 1px, 1px, 1px);height: 1px;margin: -1px;overflow: hidden;padding: 0;position: absolute;width: 1px;}#sk-container-id-2 div.sk-estimator {font-family: monospace;background-color: #f0f8ff;border: 1px dotted black;border-radius: 0.25em;box-sizing: border-box;margin-bottom: 0.5em;}#sk-container-id-2 div.sk-estimator:hover {background-color: #d4ebff;}#sk-container-id-2 div.sk-parallel-item::after {content: \"\";width: 100%;border-bottom: 1px solid gray;flex-grow: 1;}#sk-container-id-2 div.sk-label:hover label.sk-toggleable__label {background-color: #d4ebff;}#sk-container-id-2 div.sk-serial::before {content: \"\";position: absolute;border-left: 1px solid gray;box-sizing: border-box;top: 0;bottom: 0;left: 50%;z-index: 0;}#sk-container-id-2 div.sk-serial {display: flex;flex-direction: column;align-items: center;background-color: white;padding-right: 0.2em;padding-left: 0.2em;position: relative;}#sk-container-id-2 div.sk-item {position: relative;z-index: 1;}#sk-container-id-2 div.sk-parallel {display: flex;align-items: stretch;justify-content: center;background-color: white;position: relative;}#sk-container-id-2 div.sk-item::before, #sk-container-id-2 div.sk-parallel-item::before {content: \"\";position: absolute;border-left: 1px solid gray;box-sizing: border-box;top: 0;bottom: 0;left: 50%;z-index: -1;}#sk-container-id-2 div.sk-parallel-item {display: flex;flex-direction: column;z-index: 1;position: relative;background-color: white;}#sk-container-id-2 div.sk-parallel-item:first-child::after {align-self: flex-end;width: 50%;}#sk-container-id-2 div.sk-parallel-item:last-child::after {align-self: flex-start;width: 50%;}#sk-container-id-2 div.sk-parallel-item:only-child::after {width: 0;}#sk-container-id-2 div.sk-dashed-wrapped {border: 1px dashed gray;margin: 0 0.4em 0.5em 0.4em;box-sizing: border-box;padding-bottom: 0.4em;background-color: white;}#sk-container-id-2 div.sk-label label {font-family: monospace;font-weight: bold;display: inline-block;line-height: 1.2em;}#sk-container-id-2 div.sk-label-container {text-align: center;}#sk-container-id-2 div.sk-container {/* jupyter's `normalize.less` sets `[hidden] { display: none; }` but bootstrap.min.css set `[hidden] { display: none !important; }` so we also need the `!important` here to be able to override the default hidden behavior on the sphinx rendered scikit-learn.org. See: https://github.com/scikit-learn/scikit-learn/issues/21755 */display: inline-block !important;position: relative;}#sk-container-id-2 div.sk-text-repr-fallback {display: none;}</style><div id=\"sk-container-id-2\" class=\"sk-top-container\"><div class=\"sk-text-repr-fallback\"><pre>Pipeline(steps=[(&#x27;tfidf&#x27;, TfidfVectorizer()),\n",
              "                (&#x27;classifier&#x27;, RandomForestClassifier())])</pre><b>In a Jupyter environment, please rerun this cell to show the HTML representation or trust the notebook. <br />On GitHub, the HTML representation is unable to render, please try loading this page with nbviewer.org.</b></div><div class=\"sk-container\" hidden><div class=\"sk-item sk-dashed-wrapped\"><div class=\"sk-label-container\"><div class=\"sk-label sk-toggleable\"><input class=\"sk-toggleable__control sk-hidden--visually\" id=\"sk-estimator-id-2\" type=\"checkbox\" ><label for=\"sk-estimator-id-2\" class=\"sk-toggleable__label sk-toggleable__label-arrow\">Pipeline</label><div class=\"sk-toggleable__content\"><pre>Pipeline(steps=[(&#x27;tfidf&#x27;, TfidfVectorizer()),\n",
              "                (&#x27;classifier&#x27;, RandomForestClassifier())])</pre></div></div></div><div class=\"sk-serial\"><div class=\"sk-item\"><div class=\"sk-estimator sk-toggleable\"><input class=\"sk-toggleable__control sk-hidden--visually\" id=\"sk-estimator-id-3\" type=\"checkbox\" ><label for=\"sk-estimator-id-3\" class=\"sk-toggleable__label sk-toggleable__label-arrow\">TfidfVectorizer</label><div class=\"sk-toggleable__content\"><pre>TfidfVectorizer()</pre></div></div></div><div class=\"sk-item\"><div class=\"sk-estimator sk-toggleable\"><input class=\"sk-toggleable__control sk-hidden--visually\" id=\"sk-estimator-id-4\" type=\"checkbox\" ><label for=\"sk-estimator-id-4\" class=\"sk-toggleable__label sk-toggleable__label-arrow\">RandomForestClassifier</label><div class=\"sk-toggleable__content\"><pre>RandomForestClassifier()</pre></div></div></div></div></div></div></div>"
            ]
          },
          "metadata": {},
          "execution_count": 22
        }
      ]
    },
    {
      "cell_type": "code",
      "source": [
        "classifier.fit(x_train,y_train)"
      ],
      "metadata": {
        "colab": {
          "base_uri": "https://localhost:8080/",
          "height": 125
        },
        "id": "6M647V3O1tdl",
        "outputId": "bb6a6588-e2c7-4f6d-9d8d-6bc99900235c"
      },
      "execution_count": 23,
      "outputs": [
        {
          "output_type": "execute_result",
          "data": {
            "text/plain": [
              "Pipeline(steps=[('tfidf', TfidfVectorizer()),\n",
              "                ('classifier', RandomForestClassifier())])"
            ],
            "text/html": [
              "<style>#sk-container-id-3 {color: black;background-color: white;}#sk-container-id-3 pre{padding: 0;}#sk-container-id-3 div.sk-toggleable {background-color: white;}#sk-container-id-3 label.sk-toggleable__label {cursor: pointer;display: block;width: 100%;margin-bottom: 0;padding: 0.3em;box-sizing: border-box;text-align: center;}#sk-container-id-3 label.sk-toggleable__label-arrow:before {content: \"▸\";float: left;margin-right: 0.25em;color: #696969;}#sk-container-id-3 label.sk-toggleable__label-arrow:hover:before {color: black;}#sk-container-id-3 div.sk-estimator:hover label.sk-toggleable__label-arrow:before {color: black;}#sk-container-id-3 div.sk-toggleable__content {max-height: 0;max-width: 0;overflow: hidden;text-align: left;background-color: #f0f8ff;}#sk-container-id-3 div.sk-toggleable__content pre {margin: 0.2em;color: black;border-radius: 0.25em;background-color: #f0f8ff;}#sk-container-id-3 input.sk-toggleable__control:checked~div.sk-toggleable__content {max-height: 200px;max-width: 100%;overflow: auto;}#sk-container-id-3 input.sk-toggleable__control:checked~label.sk-toggleable__label-arrow:before {content: \"▾\";}#sk-container-id-3 div.sk-estimator input.sk-toggleable__control:checked~label.sk-toggleable__label {background-color: #d4ebff;}#sk-container-id-3 div.sk-label input.sk-toggleable__control:checked~label.sk-toggleable__label {background-color: #d4ebff;}#sk-container-id-3 input.sk-hidden--visually {border: 0;clip: rect(1px 1px 1px 1px);clip: rect(1px, 1px, 1px, 1px);height: 1px;margin: -1px;overflow: hidden;padding: 0;position: absolute;width: 1px;}#sk-container-id-3 div.sk-estimator {font-family: monospace;background-color: #f0f8ff;border: 1px dotted black;border-radius: 0.25em;box-sizing: border-box;margin-bottom: 0.5em;}#sk-container-id-3 div.sk-estimator:hover {background-color: #d4ebff;}#sk-container-id-3 div.sk-parallel-item::after {content: \"\";width: 100%;border-bottom: 1px solid gray;flex-grow: 1;}#sk-container-id-3 div.sk-label:hover label.sk-toggleable__label {background-color: #d4ebff;}#sk-container-id-3 div.sk-serial::before {content: \"\";position: absolute;border-left: 1px solid gray;box-sizing: border-box;top: 0;bottom: 0;left: 50%;z-index: 0;}#sk-container-id-3 div.sk-serial {display: flex;flex-direction: column;align-items: center;background-color: white;padding-right: 0.2em;padding-left: 0.2em;position: relative;}#sk-container-id-3 div.sk-item {position: relative;z-index: 1;}#sk-container-id-3 div.sk-parallel {display: flex;align-items: stretch;justify-content: center;background-color: white;position: relative;}#sk-container-id-3 div.sk-item::before, #sk-container-id-3 div.sk-parallel-item::before {content: \"\";position: absolute;border-left: 1px solid gray;box-sizing: border-box;top: 0;bottom: 0;left: 50%;z-index: -1;}#sk-container-id-3 div.sk-parallel-item {display: flex;flex-direction: column;z-index: 1;position: relative;background-color: white;}#sk-container-id-3 div.sk-parallel-item:first-child::after {align-self: flex-end;width: 50%;}#sk-container-id-3 div.sk-parallel-item:last-child::after {align-self: flex-start;width: 50%;}#sk-container-id-3 div.sk-parallel-item:only-child::after {width: 0;}#sk-container-id-3 div.sk-dashed-wrapped {border: 1px dashed gray;margin: 0 0.4em 0.5em 0.4em;box-sizing: border-box;padding-bottom: 0.4em;background-color: white;}#sk-container-id-3 div.sk-label label {font-family: monospace;font-weight: bold;display: inline-block;line-height: 1.2em;}#sk-container-id-3 div.sk-label-container {text-align: center;}#sk-container-id-3 div.sk-container {/* jupyter's `normalize.less` sets `[hidden] { display: none; }` but bootstrap.min.css set `[hidden] { display: none !important; }` so we also need the `!important` here to be able to override the default hidden behavior on the sphinx rendered scikit-learn.org. See: https://github.com/scikit-learn/scikit-learn/issues/21755 */display: inline-block !important;position: relative;}#sk-container-id-3 div.sk-text-repr-fallback {display: none;}</style><div id=\"sk-container-id-3\" class=\"sk-top-container\"><div class=\"sk-text-repr-fallback\"><pre>Pipeline(steps=[(&#x27;tfidf&#x27;, TfidfVectorizer()),\n",
              "                (&#x27;classifier&#x27;, RandomForestClassifier())])</pre><b>In a Jupyter environment, please rerun this cell to show the HTML representation or trust the notebook. <br />On GitHub, the HTML representation is unable to render, please try loading this page with nbviewer.org.</b></div><div class=\"sk-container\" hidden><div class=\"sk-item sk-dashed-wrapped\"><div class=\"sk-label-container\"><div class=\"sk-label sk-toggleable\"><input class=\"sk-toggleable__control sk-hidden--visually\" id=\"sk-estimator-id-5\" type=\"checkbox\" ><label for=\"sk-estimator-id-5\" class=\"sk-toggleable__label sk-toggleable__label-arrow\">Pipeline</label><div class=\"sk-toggleable__content\"><pre>Pipeline(steps=[(&#x27;tfidf&#x27;, TfidfVectorizer()),\n",
              "                (&#x27;classifier&#x27;, RandomForestClassifier())])</pre></div></div></div><div class=\"sk-serial\"><div class=\"sk-item\"><div class=\"sk-estimator sk-toggleable\"><input class=\"sk-toggleable__control sk-hidden--visually\" id=\"sk-estimator-id-6\" type=\"checkbox\" ><label for=\"sk-estimator-id-6\" class=\"sk-toggleable__label sk-toggleable__label-arrow\">TfidfVectorizer</label><div class=\"sk-toggleable__content\"><pre>TfidfVectorizer()</pre></div></div></div><div class=\"sk-item\"><div class=\"sk-estimator sk-toggleable\"><input class=\"sk-toggleable__control sk-hidden--visually\" id=\"sk-estimator-id-7\" type=\"checkbox\" ><label for=\"sk-estimator-id-7\" class=\"sk-toggleable__label sk-toggleable__label-arrow\">RandomForestClassifier</label><div class=\"sk-toggleable__content\"><pre>RandomForestClassifier()</pre></div></div></div></div></div></div></div>"
            ]
          },
          "metadata": {},
          "execution_count": 23
        }
      ]
    },
    {
      "cell_type": "code",
      "source": [
        "y_pred_train=classifier.predict(x_train)\n",
        "y_pred_test=classifier.predict(x_test)"
      ],
      "metadata": {
        "id": "FB1RBWwQ1tad"
      },
      "execution_count": 24,
      "outputs": []
    },
    {
      "cell_type": "code",
      "source": [
        "y_pred_train"
      ],
      "metadata": {
        "colab": {
          "base_uri": "https://localhost:8080/"
        },
        "id": "vIe_U1Yat33X",
        "outputId": "4e05db4c-5e2a-4f2f-e555-08e345cab3b7"
      },
      "execution_count": 25,
      "outputs": [
        {
          "output_type": "execute_result",
          "data": {
            "text/plain": [
              "array(['spam', 'spam', 'spam', ..., 'ham', 'spam', 'spam'], dtype=object)"
            ]
          },
          "metadata": {},
          "execution_count": 25
        }
      ]
    },
    {
      "cell_type": "code",
      "source": [
        "y_pred_test"
      ],
      "metadata": {
        "colab": {
          "base_uri": "https://localhost:8080/"
        },
        "id": "5MYsQly3xO72",
        "outputId": "8d445053-0cde-406e-a22a-706e79eca1dc"
      },
      "execution_count": 26,
      "outputs": [
        {
          "output_type": "execute_result",
          "data": {
            "text/plain": [
              "array(['ham', 'ham', 'spam', 'ham', 'spam', 'ham', 'spam', 'ham', 'ham',\n",
              "       'ham', 'spam', 'ham', 'spam', 'ham', 'ham', 'spam', 'spam', 'ham',\n",
              "       'spam', 'ham', 'spam', 'ham', 'spam', 'spam', 'ham', 'ham', 'ham',\n",
              "       'ham', 'spam', 'ham', 'spam', 'spam', 'ham', 'ham', 'ham', 'ham',\n",
              "       'ham', 'ham', 'spam', 'ham', 'spam', 'spam', 'ham', 'spam', 'spam',\n",
              "       'ham', 'spam', 'spam', 'ham', 'ham', 'ham', 'spam', 'ham', 'spam',\n",
              "       'ham', 'ham', 'ham', 'spam', 'ham', 'spam', 'spam', 'ham', 'ham',\n",
              "       'ham', 'ham', 'ham', 'spam', 'spam', 'spam', 'ham', 'ham', 'spam',\n",
              "       'ham', 'ham', 'spam', 'spam', 'spam', 'ham', 'ham', 'spam', 'spam',\n",
              "       'ham', 'spam', 'ham', 'spam', 'spam', 'spam', 'ham', 'ham', 'ham',\n",
              "       'ham', 'ham', 'spam', 'spam', 'spam', 'spam', 'ham', 'ham', 'ham',\n",
              "       'spam', 'spam', 'spam', 'spam', 'ham', 'spam', 'ham', 'ham',\n",
              "       'spam', 'ham', 'ham', 'ham', 'ham', 'spam', 'ham', 'ham', 'spam',\n",
              "       'spam', 'ham', 'spam', 'spam', 'ham', 'ham', 'spam', 'ham', 'ham',\n",
              "       'spam', 'ham', 'ham', 'spam', 'spam', 'spam', 'ham', 'ham', 'spam',\n",
              "       'spam', 'ham', 'spam', 'spam', 'spam', 'ham', 'ham', 'spam', 'ham',\n",
              "       'spam', 'ham', 'ham', 'ham', 'ham', 'ham', 'spam', 'ham', 'spam',\n",
              "       'spam', 'spam', 'ham', 'ham', 'ham', 'ham', 'spam', 'spam', 'ham',\n",
              "       'spam', 'spam', 'ham', 'ham', 'spam', 'ham', 'ham', 'ham', 'ham',\n",
              "       'ham', 'ham', 'ham', 'spam', 'ham', 'ham', 'spam', 'ham', 'spam',\n",
              "       'spam', 'ham', 'spam', 'spam', 'spam', 'spam', 'spam', 'spam',\n",
              "       'ham', 'ham', 'spam', 'spam', 'ham', 'ham', 'ham', 'spam', 'ham',\n",
              "       'ham', 'spam', 'ham', 'ham', 'ham', 'spam', 'spam', 'spam', 'spam',\n",
              "       'spam', 'ham', 'ham', 'ham', 'spam', 'spam', 'spam', 'ham', 'ham',\n",
              "       'ham', 'ham', 'ham', 'ham', 'spam', 'spam', 'ham', 'ham', 'ham',\n",
              "       'spam', 'ham', 'spam', 'ham', 'ham', 'ham', 'ham', 'ham', 'ham',\n",
              "       'ham', 'ham', 'spam', 'ham', 'spam', 'ham', 'ham', 'ham', 'ham',\n",
              "       'spam', 'spam', 'ham', 'spam', 'spam', 'ham', 'ham', 'ham', 'spam',\n",
              "       'spam', 'spam', 'spam', 'ham', 'spam', 'ham', 'ham', 'spam', 'ham',\n",
              "       'ham', 'spam', 'spam', 'ham', 'spam', 'spam', 'ham', 'ham', 'spam',\n",
              "       'ham', 'ham', 'spam', 'spam', 'ham', 'spam', 'spam', 'ham', 'ham',\n",
              "       'ham', 'spam', 'ham', 'spam', 'ham', 'spam', 'ham', 'ham', 'ham',\n",
              "       'spam', 'spam', 'ham', 'ham', 'spam', 'spam', 'ham', 'ham', 'ham',\n",
              "       'ham', 'ham', 'spam', 'ham', 'ham', 'spam', 'spam', 'ham', 'spam',\n",
              "       'ham', 'ham', 'spam', 'spam', 'ham', 'ham', 'spam', 'spam', 'ham',\n",
              "       'ham', 'spam', 'spam', 'spam', 'spam', 'ham', 'ham', 'ham', 'spam',\n",
              "       'ham', 'ham', 'ham', 'ham', 'spam', 'ham', 'ham', 'spam', 'spam',\n",
              "       'spam', 'ham', 'ham', 'spam', 'ham', 'ham', 'ham', 'ham', 'ham',\n",
              "       'spam', 'spam', 'ham', 'spam', 'ham', 'ham', 'ham', 'spam', 'spam',\n",
              "       'spam', 'ham', 'ham', 'spam', 'spam', 'ham', 'spam', 'spam',\n",
              "       'spam', 'spam', 'spam', 'ham', 'spam', 'ham', 'ham', 'spam', 'ham',\n",
              "       'ham', 'ham', 'ham', 'ham', 'ham', 'ham', 'ham', 'spam', 'ham',\n",
              "       'ham', 'ham', 'ham', 'ham', 'ham', 'ham', 'ham', 'spam', 'spam',\n",
              "       'ham', 'spam', 'spam', 'spam', 'ham', 'spam', 'spam', 'spam',\n",
              "       'spam', 'ham', 'ham', 'ham', 'ham', 'spam', 'spam', 'ham', 'spam',\n",
              "       'spam', 'spam', 'ham', 'ham', 'ham', 'ham', 'ham', 'spam', 'ham',\n",
              "       'spam', 'ham', 'spam', 'spam', 'spam', 'ham', 'spam', 'spam',\n",
              "       'ham', 'ham', 'ham', 'ham', 'ham', 'ham', 'spam', 'ham', 'spam',\n",
              "       'spam', 'ham', 'ham', 'spam', 'spam', 'ham', 'ham', 'ham', 'ham',\n",
              "       'spam', 'spam', 'spam', 'spam', 'ham', 'spam', 'ham', 'spam',\n",
              "       'spam', 'ham', 'ham', 'ham', 'ham'], dtype=object)"
            ]
          },
          "metadata": {},
          "execution_count": 26
        }
      ]
    },
    {
      "cell_type": "markdown",
      "source": [
        "Evaluation metrics"
      ],
      "metadata": {
        "id": "tC_wvBwW32PM"
      }
    },
    {
      "cell_type": "code",
      "source": [
        "from sklearn.metrics import confusion_matrix, classification_report, accuracy_score"
      ],
      "metadata": {
        "id": "S31nXpCwxO5e"
      },
      "execution_count": 27,
      "outputs": []
    },
    {
      "cell_type": "code",
      "source": [
        "confusion_matrix(y_test,y_pred_test)"
      ],
      "metadata": {
        "colab": {
          "base_uri": "https://localhost:8080/"
        },
        "id": "BWhWjpevxO2x",
        "outputId": "e52ee4cd-9bd5-4c22-d7b3-e1fa783d7370"
      },
      "execution_count": 28,
      "outputs": [
        {
          "output_type": "execute_result",
          "data": {
            "text/plain": [
              "array([[225,   1],\n",
              "       [ 28, 195]])"
            ]
          },
          "metadata": {},
          "execution_count": 28
        }
      ]
    },
    {
      "cell_type": "code",
      "source": [
        "print(classification_report(y_train,y_pred_train))\n",
        "print('....................')\n",
        "print(classification_report(y_test,y_pred_test))"
      ],
      "metadata": {
        "colab": {
          "base_uri": "https://localhost:8080/"
        },
        "id": "reWQf-gYxOz3",
        "outputId": "70b887f0-7ef7-4d38-e662-66341c68cdd8"
      },
      "execution_count": 29,
      "outputs": [
        {
          "output_type": "stream",
          "name": "stdout",
          "text": [
            "              precision    recall  f1-score   support\n",
            "\n",
            "         ham       1.00      1.00      1.00       521\n",
            "        spam       1.00      1.00      1.00       524\n",
            "\n",
            "    accuracy                           1.00      1045\n",
            "   macro avg       1.00      1.00      1.00      1045\n",
            "weighted avg       1.00      1.00      1.00      1045\n",
            "\n",
            "....................\n",
            "              precision    recall  f1-score   support\n",
            "\n",
            "         ham       0.89      1.00      0.94       226\n",
            "        spam       0.99      0.87      0.93       223\n",
            "\n",
            "    accuracy                           0.94       449\n",
            "   macro avg       0.94      0.94      0.94       449\n",
            "weighted avg       0.94      0.94      0.94       449\n",
            "\n"
          ]
        }
      ]
    },
    {
      "cell_type": "code",
      "source": [
        "print(accuracy_score(y_train,y_pred_train))\n",
        "print('....................')\n",
        "print(accuracy_score(y_test,y_pred_test))"
      ],
      "metadata": {
        "colab": {
          "base_uri": "https://localhost:8080/"
        },
        "id": "62PF_29p4z80",
        "outputId": "940f06bd-e16b-45ad-8bca-fb20c86b5362"
      },
      "execution_count": 30,
      "outputs": [
        {
          "output_type": "stream",
          "name": "stdout",
          "text": [
            "1.0\n",
            "....................\n",
            "0.9354120267260579\n"
          ]
        }
      ]
    },
    {
      "cell_type": "markdown",
      "source": [
        "SOTA- word2vec,BERT"
      ],
      "metadata": {
        "id": "A7puQNOs4umG"
      }
    },
    {
      "cell_type": "markdown",
      "source": [
        "Check model performance"
      ],
      "metadata": {
        "id": "K9_oFDBm5LU2"
      }
    },
    {
      "cell_type": "code",
      "source": [
        "test1=['Hello, Hope you are doing well.']\n",
        "test2=['Congratulations, You won a lottery ticket worth $100 Million! TO claim call @1111']\n"
      ],
      "metadata": {
        "id": "mJY-QE8bxOwW"
      },
      "execution_count": 31,
      "outputs": []
    },
    {
      "cell_type": "code",
      "source": [
        "print(classifier.predict(test1))\n",
        "print(classifier.predict(test2))"
      ],
      "metadata": {
        "colab": {
          "base_uri": "https://localhost:8080/"
        },
        "id": "laeiQnVD5gG1",
        "outputId": "63f0ed87-fc1f-4c5a-87a3-dcf8be0e468f"
      },
      "execution_count": 32,
      "outputs": [
        {
          "output_type": "stream",
          "name": "stdout",
          "text": [
            "['ham']\n",
            "['spam']\n"
          ]
        }
      ]
    },
    {
      "cell_type": "markdown",
      "source": [
        "Naive Bayes Algorithm"
      ],
      "metadata": {
        "id": "bhRDLhQI6_72"
      }
    },
    {
      "cell_type": "code",
      "source": [
        "data.columns"
      ],
      "metadata": {
        "colab": {
          "base_uri": "https://localhost:8080/"
        },
        "id": "67BM2dZ18cLr",
        "outputId": "32a4d686-f39b-4cee-e5b1-983938e9144b"
      },
      "execution_count": 33,
      "outputs": [
        {
          "output_type": "execute_result",
          "data": {
            "text/plain": [
              "Index(['label', 'message', 'length', 'punct'], dtype='object')"
            ]
          },
          "metadata": {},
          "execution_count": 33
        }
      ]
    },
    {
      "cell_type": "code",
      "source": [
        "import re\n",
        "import nltk\n",
        "nltk.download('stopwords')\n",
        "from nltk.corpus import stopwords\n",
        "from nltk.stem.porter import PorterStemmer\n",
        "ps=PorterStemmer()\n",
        "corpus=[]\n",
        "\n",
        "for i in range(0,len(data)):\n",
        "    review=re.sub('[^a-zA-Z]', ' ',data['message'][i])\n",
        "    review=review.lower()\n",
        "    review=review.split()\n",
        "    review=[ps.stem(word) for word in review if not word in stopwords.words('english')]\n",
        "    review=' '.join(review)\n",
        "    corpus.append(review)"
      ],
      "metadata": {
        "colab": {
          "base_uri": "https://localhost:8080/"
        },
        "id": "_NnZpoFX8FNE",
        "outputId": "0ea80e42-760b-4bf0-d05c-9e3d7991f56d"
      },
      "execution_count": 34,
      "outputs": [
        {
          "output_type": "stream",
          "name": "stderr",
          "text": [
            "[nltk_data] Downloading package stopwords to /root/nltk_data...\n",
            "[nltk_data]   Package stopwords is already up-to-date!\n"
          ]
        }
      ]
    },
    {
      "cell_type": "code",
      "source": [
        "corpus"
      ],
      "metadata": {
        "colab": {
          "base_uri": "https://localhost:8080/"
        },
        "id": "fs80YQZ39dIt",
        "outputId": "3115ed03-9c18-458e-9af4-e3030bce6090"
      },
      "execution_count": 35,
      "outputs": [
        {
          "output_type": "execute_result",
          "data": {
            "text/plain": [
              "['know taj mahal symbol love lesser known fact mumtaz shahjahan th wife wife shahjahan kill mumtaz husband marri mumtaz die lt gt th deliveri marri mumtaz sister question aris hell love great hari',\n",
              " 'yeah still give ride',\n",
              " 'ne thing interest good birthday u wrking nxt start uni today',\n",
              " 'like cheap happi splash wine make feel better',\n",
              " 'singl line big mean miss anyth ur best life miss ur best life anyth gud nyt',\n",
              " 'long time rememb today',\n",
              " 'sorri flake last night shit serious goin roommat tonight',\n",
              " 'jokin oni lar busi wun disturb',\n",
              " 'greatest test courag earth bear defeat without lose heart gn tc',\n",
              " 'let make saturday monday per conveni',\n",
              " 'joy father john john name joy father mandan',\n",
              " 'alrit girl u know gail neva wrong take care sweet worri c u l tr hun love yaxxx',\n",
              " 'place man',\n",
              " 'jay say doubl faggot',\n",
              " 'sorri lot friend friend stuff talk actual guy want buy',\n",
              " 'pass di ur contact n see wat u get red luv wid u blue u put smile face purpl u r reali hot pink u r swt orang thnk lyk u green reali wana go wid u yelow wnt u bck black jealou u brown miss nw plz giv one color',\n",
              " 'want lick pussi',\n",
              " 'ju finish lunch way home lor tot u dun wan stay sch today',\n",
              " 'lol wtf random btw lunch break',\n",
              " 'dhoni luck win big titl win',\n",
              " 'joy father john john joy father u an th hav lt gt iq ti ia question tri answer',\n",
              " 'k k sm chat',\n",
              " 'ye thought thank',\n",
              " 'hello love get interview today happi good boy think miss',\n",
              " 'marriag function',\n",
              " 'worri hope photo shoot went well spif fun workag',\n",
              " 'hi test lt gt rd',\n",
              " 'meet librari',\n",
              " 'done',\n",
              " 'nah dub je still buff',\n",
              " 'meet corpor st outsid gap see mind work',\n",
              " 'per request mell mell oru minnaminungint nurungu vettam set callertun caller press copi friend callertun',\n",
              " 'live next lt gt min',\n",
              " 'love ass enjoy doggi style',\n",
              " 'know jack shit anyth say ask someth help want pretend text whatev respons hypotheticalhuagauahahuagahyuhagga',\n",
              " 'ye tv alway avail work place',\n",
              " 'work pleas call',\n",
              " 'call time job today ok umma ask speed',\n",
              " 'let math good',\n",
              " 'real babi want bring inner tigress',\n",
              " 'u attend ur drive lesson mani time wk n day',\n",
              " 'wish great semest',\n",
              " 'hi got money da',\n",
              " 'lor',\n",
              " 'two carton u pleas shelv',\n",
              " 'tomarrow final hear laptop case cant',\n",
              " 'hi mobil lt gt ad contact list www fullonsm com great place send free sm peopl visit fullonsm com',\n",
              " 'common hearin r u wat r u ur day let ask u someth differ u smile today gud evng',\n",
              " 'tell femal v throw decid get',\n",
              " 'mostli sport type lyk footbl crckt',\n",
              " 'ye babi studi posit kama sutra',\n",
              " 'know complain num bettr directli go bsnl offc nd appli',\n",
              " 'lol wtf random btw lunch break',\n",
              " 'u reckon need arrang transport u thank',\n",
              " 'buy today need c meh',\n",
              " 'alrit jod how revis goin keri bin doin smidgin n e way u wanna cum colleg xx',\n",
              " 'look',\n",
              " 'yetund class run water make ok pl',\n",
              " 'k addi amp art get home',\n",
              " 'hai ana tomarrow come morn lt decim gt ill sathi go rto offic repli came home',\n",
              " 'watch cartoon listen music amp eve go templ amp church u',\n",
              " 'abl sleep',\n",
              " 'wait come lt gt min',\n",
              " 'glad see repli',\n",
              " 'g say never answer text confirm deni',\n",
              " 'eek lot time especi sinc american pie like minut long stop sing',\n",
              " 'lmao take pic send',\n",
              " 'oic better quickli go bath n settl',\n",
              " 'drive read need write',\n",
              " 'pick variou point go yeovil motor project hour u take home max easi',\n",
              " 'u',\n",
              " 'pete phone still jenni colleg leann',\n",
              " 'noe specifi da domain nusstu still sch',\n",
              " 'co want thing',\n",
              " 'wait call',\n",
              " 'got mail panren paru',\n",
              " 'stop old man get build snowman snow angel snowbal fight',\n",
              " 'found diff farm shop buy chees way back call',\n",
              " 'mayb woke fuck problem',\n",
              " 'dunno u ask',\n",
              " 'lol ok forgiven',\n",
              " 'ummmmmaah mani mani happi return day dear sweet heart happi birthday dear',\n",
              " 'puriti friendship two smile read forward messag smile see name gud evng musthu',\n",
              " 'two team wait player',\n",
              " 'yup',\n",
              " 'still play gautham',\n",
              " 'haha sound crazi dunno tahan anot',\n",
              " 'goodmorn today late hr back pain',\n",
              " 'ye reg ciao',\n",
              " 'sound gd haha wah u yan jiu fast liao',\n",
              " 'huh mean comput scienc like dat one push n',\n",
              " 'boat still mom check yo half nake',\n",
              " 'sez how u de arab boy hope u r good give love evri love ya eshxxxxxxxxxxx',\n",
              " 'aight rush ask jay',\n",
              " 'money issu weigh thank breath easier make sure dont regret thank',\n",
              " 'eatin later eatin wif fren lei go home first',\n",
              " 'sick needi want pout stomp feet pout stomp feet want slave want',\n",
              " 'usual take fifteen fuck minut respond ye question',\n",
              " 'great church holla get',\n",
              " 'email yifeng part oredi get fr',\n",
              " 'puriti friendship two smile read forward messag smile see name gud evng',\n",
              " 'cool text head',\n",
              " 'hui xin da lib',\n",
              " 'right make appoint right',\n",
              " 'u ask next sat make ok lor',\n",
              " 'pattern recent crap weekend',\n",
              " 'still tonight',\n",
              " 'hmmm still dont open',\n",
              " 'get',\n",
              " 'good day mine realli busi much tomorrow night',\n",
              " 'dont want hear anyth',\n",
              " 'sac score big hundr set batsman',\n",
              " 'plz note anyon call mobil co amp ask u type lt gt lt gt disconnect call coz iz attempt terrorist make use sim card itz confirmd nokia n motorola n verifi cnn ibn',\n",
              " 'time thinkin goin',\n",
              " 'yo trip got postpon still stock',\n",
              " 'yet ya sapna aunti maneg day hogidh chinnu full weak swalpa black agidhan',\n",
              " 'sorri took long omw',\n",
              " 'hey gal u wanna meet dinner n te',\n",
              " 'idea guess work hour suppos leav sinc usual nobodi interest figur shit last second',\n",
              " 'hi babi im sat bloodi bu mo wont home wanna somethin later call later ortxt back jess xx',\n",
              " 'love know feel make belli warm wish love shall meet dream ahmad ador kiss',\n",
              " 'oop let know roommat done',\n",
              " 'what staff name take class us',\n",
              " 'normal hot mail com see',\n",
              " 'yo game almost want go walmart soon',\n",
              " 'worri finish march ish',\n",
              " 'nope wait sch daddi',\n",
              " 'r comin back dinner',\n",
              " 'ft good combin',\n",
              " 'anyth lor',\n",
              " 'wen ur lovabl bcum angri wid u dnt take serious coz angri childish n true way show deep affect care n luv kettoda manda nice day da',\n",
              " 'take care sleep well need learn chang life need get convinc wait convers us get convinc time famili mani sens respect overemphasis u role life',\n",
              " 'either way work lt gt year old hope doesnt bother',\n",
              " 'send pic like',\n",
              " 'happi valentin day know earli hundr handsom beauti wish thought finish aunti uncl st',\n",
              " 'go open room til thanksgiv without upcharg',\n",
              " 'baaaaab misss youuuuu go teach class',\n",
              " 'dont knw pa drink milk',\n",
              " 'actual nvm got hella cash still lt gt ish',\n",
              " 'two letter copi co one messag speak soon',\n",
              " 'ye princess go make moan',\n",
              " 'new year plan',\n",
              " 'match start india lt gt',\n",
              " 'u mean u almost done done wif sleep tot u go take nap yup send liao pick ard smth lor',\n",
              " 'argh g spotti anyway thing rememb research provinc sterl problem free place look',\n",
              " 'go n buy juz buy get lar',\n",
              " 'what come hill monster hope great day thing r go fine busi though',\n",
              " 'hi mate rv u hav nice hol messag say hello coz sent u age start drive stay road rvx',\n",
              " 'easi ah sen got select mean good',\n",
              " 'huh slow tot u reach long ago liao u day leh',\n",
              " 'tmrw im finish door',\n",
              " 'hello go villag pub either come accordingli ok',\n",
              " 'arun u transfr amt',\n",
              " 'well know mean text',\n",
              " 'mean februari april get place stay hustl back forth audit season sinc sister move away harlem',\n",
              " 'none nowher ikno doesdiscount shitinnit',\n",
              " 'went project centr',\n",
              " 'bu leav lt gt',\n",
              " 'meant middl left right',\n",
              " 'read shame tell take run blame u ever realli ever long time',\n",
              " 'thank much skype wit kz sura didnt get pleasur compani hope good given ultimatum oh countin aburo enjoy messag sent day ago',\n",
              " 'pop lt gt ibuprofen help',\n",
              " 'sir need axi bank account bank address',\n",
              " 'meet u work tel shall work tomorrow',\n",
              " 'taco raja burrito right',\n",
              " 'call messag miss call',\n",
              " 'sure result offer',\n",
              " 'goodmorn sleep ga',\n",
              " 'sleep surf',\n",
              " 'husband',\n",
              " 'accident delet messag resend pleas',\n",
              " 'yo parent gettin cash good news pick downstem',\n",
              " 'that cool gentleman treat digniti respect',\n",
              " 'that cool cum',\n",
              " 'tonight yeah',\n",
              " 'taxt massag tie po argh ok lool',\n",
              " 'sound like someth someon test would sayi',\n",
              " 'ryder unsold gibb',\n",
              " 'home also',\n",
              " 'k k pa lunch aha',\n",
              " 'batteri mr adewal uncl aka egbon',\n",
              " 'laptop take',\n",
              " 'cant pick phone right pl send messag',\n",
              " 'ok prob come lunch',\n",
              " 'friend help us problem give stupid suggest land us anoth problem help us forgt previou problem',\n",
              " 'sorri call later',\n",
              " 'hey doc pl want get nice shirt hubbi nice fite one budget lt gt k help pl load card abi hw keep post luv mj',\n",
              " 'get worri derek taylor alreadi assum worst',\n",
              " 'ye princess want make happi',\n",
              " 'sit ard noth lor u leh busi w work',\n",
              " 'tirupur call da',\n",
              " 'wait til least wednesday see get',\n",
              " 'work eye philosophi text u later bit free chat',\n",
              " 'horribl bf v hungri',\n",
              " 'swhrt u dey hope ur ok tot u day love n miss take care',\n",
              " 'date sunday',\n",
              " 'reach ur home lt gt minut',\n",
              " 'valentin game send di msg ur friend answer r someon realli love u que colour suit best',\n",
              " 'cool text park',\n",
              " 'avail soire june rd',\n",
              " 'gettin rdi ship comp',\n",
              " 'happi new year man',\n",
              " 'sell ton coin sell coin someon thru paypal voila money back life pocket',\n",
              " 'east coast',\n",
              " 'r home come within min',\n",
              " 'dear ok',\n",
              " 'what staff name take class us',\n",
              " 'mm feel sleepi today shall get dear',\n",
              " 'good day mine realli busi much tomorrow night',\n",
              " 'sorri pain ok meet anoth night spent late afternoon casualti mean done stuff moro includ time sheet sorri',\n",
              " 'late said websit dont slipper',\n",
              " 'yetund class run water make ok pl',\n",
              " 'meet call later',\n",
              " 'aah bless arm',\n",
              " 'alright bring see like lt gt min',\n",
              " 'ummmmmaah mani mani happi return day dear sweet heart happi birthday dear',\n",
              " 'need th campu atm could pick hour two',\n",
              " 'fret buy ovul test strip send wont get til like march send postal address u alright okay',\n",
              " 'u receiv msg',\n",
              " '',\n",
              " 'ok',\n",
              " 'toshiba porteg gd',\n",
              " 'sorri call later meet sir',\n",
              " 'apart one told yesterday',\n",
              " 'say give call friend got money definit buy end week',\n",
              " 'hi darlin cantdo anythingtomorrow mypar aretak outfor meal u free katexxx',\n",
              " '',\n",
              " 'alright thank advic enjoy night tri get sleep',\n",
              " 'live simpl love also simpl laugh simpl win tooo simpl simpl difficult',\n",
              " 'got divorc lol',\n",
              " 'know pl open back',\n",
              " '',\n",
              " 'yeah confirm stay weekend',\n",
              " 'reach home call',\n",
              " 'turn phone mom tell everyon cancer sister stop call hurt talk put see u u get home love u',\n",
              " 'wonder world th th ur style th ur smile th ur person rd ur natur nd ur sm st ur love friendship good morn dear',\n",
              " 'lol real told dad cancer',\n",
              " 'yup free',\n",
              " 'pleas attend phone',\n",
              " 'need drug anymor',\n",
              " 'grandma oh dear u still ill felt shit morn think hungov anoth night leav sat',\n",
              " 'n funni',\n",
              " 'thank much skype wit kz sura didnt get pleasur compani hope good given ultimatum oh countin aburo enjoy messag sent day ago',\n",
              " 'like',\n",
              " 'fyi take quick shower epsilon like lt gt min',\n",
              " 'ok found di pierr cardin one look normal cost sale',\n",
              " 'told return order',\n",
              " 'dude im longer pisc im aquariu',\n",
              " 'give one miss number pleas',\n",
              " 'height confid aeronaut professor wer calld amp wer askd sit aeroplan aftr sat wer told dat plane ws made student dey hurri plane bt didnt move said made student wont even start datz confid',\n",
              " 'alright hook guy',\n",
              " 'shall start hear',\n",
              " 'neva tell noe home da aft wat',\n",
              " 'hi darlin im way london smash anoth driver big dent im realli miss u u xxx',\n",
              " 'otherwis part time job na tuition',\n",
              " 'feel nauseou piss eat sweet week caus today plan pig diet week hungri',\n",
              " 'birthday feb lt gt da',\n",
              " 'ill lt gt ok',\n",
              " 'yeah open chat click friend list make list easi pie',\n",
              " 'actual delet old websit blog magicalsong blogspot com',\n",
              " 'necessarili expect done get back though headin',\n",
              " 'haha got fast lose weight thk muz go month den got effect gee later go aust put bk e weight',\n",
              " 'much eighth',\n",
              " 'k send lt gt min',\n",
              " 'work eye philosophi text u later bit free chat',\n",
              " 'e msg ju u said thank gift',\n",
              " 'run away frm u walk slowli amp kill u care enough stop',\n",
              " 'right think',\n",
              " 'call see facebook huh',\n",
              " 'ju chillaxin',\n",
              " 'ok anyway need chang said',\n",
              " 'hey leav friday wait ask superior tell',\n",
              " 'say give call friend got money definit buy end week',\n",
              " 'notic like look shit mirror your turn right freak',\n",
              " 'mm time dont like fun',\n",
              " 'hi darlin finish u pick meet text back number luv kate xxx',\n",
              " 'wat r u',\n",
              " 'sorri call later meet',\n",
              " 'hello wat talk email address',\n",
              " 'oh k k take test',\n",
              " 'ur physic get',\n",
              " 'u think girl propos u today se ur bloodi funki shit fuck face asssssholeee',\n",
              " 'good wonder wont say hi smile cope long distanc',\n",
              " 'never blame day ur life good day give u happi bad day give u experi essenti life god bless good morn',\n",
              " 'get',\n",
              " 'great princess love give receiv oral doggi style fave posit enjoy make love lt gt time per night',\n",
              " 'short cute good person dont tri prove gud mrng',\n",
              " 'finish alreadi yar keep say mushi embarrass ok',\n",
              " 'fishrman woke earli mrng dark wait amp found sack ful stone strtd throwin thm sea pass time atlast ju stone sun rose amp found tht r nt stone diamond moral dont wake earli mrng good night',\n",
              " 'wonder world th th ur style th ur smile th ur person rd ur natur nd ur sm st ur love friendship good morn dear',\n",
              " 'like person size',\n",
              " 'sir need axi bank account bank address',\n",
              " 'yeah usual guy town definit peopl around know',\n",
              " 'think one say clearli ok leav need ask go come',\n",
              " 'charg transfer charg withdraw anyhow like',\n",
              " 'ok sure time tho sure get librari class tri see point good eve',\n",
              " 'cute thought friendship necessari share everi secret ur close frnd watev u share true',\n",
              " 'know wot peopl wear shirt jumper hat belt know r cribb',\n",
              " 'ju an lar u noe later',\n",
              " 'dear umma call',\n",
              " 'sorri dude dont know forgot even dan remind sorri hope guy fun',\n",
              " 'ride equal unev mani peski cyclist around time night',\n",
              " 'hi im relax time ever get everi day parti good night get home tomorrow ish',\n",
              " 'roger probabl go rem',\n",
              " 'plan come chennai',\n",
              " 'r u cook dinner',\n",
              " 'still chanc search hard get let tri',\n",
              " 'hi pleas get lt gt dollar loan pay back mid februari pl',\n",
              " 'come get b quit diff guess rite',\n",
              " 'wud never mind u dont miss u dont need u wil realli hurt wen u need amp u dont tell take care',\n",
              " 'pl need dat slowli vomit',\n",
              " '',\n",
              " 'fyi gonna call sporad start like lt gt bc doin shit',\n",
              " 'photoshop make comput shut',\n",
              " 'text get call phone problem',\n",
              " 'guy get use dumb realiz',\n",
              " 'ok sent u da latest version da project',\n",
              " 'septemb',\n",
              " 'put parti day week studi lightli think need draw custom checkbox know hardcor',\n",
              " 'know need get hotel got invit apologis cali sweet come english bloke weddin',\n",
              " 'late',\n",
              " 'tiwari rcb battl bang kochi',\n",
              " 'busi come point figur tomorrow',\n",
              " 'shb b ok lor thanx',\n",
              " 'ye saw messag',\n",
              " 'ur chang da report big co alreadi made chang da previou report',\n",
              " 'hello saturday go text see decid anyth tomo tri invit anyth',\n",
              " 'stop get ice cream go back',\n",
              " 'know shall speak lt gt minut',\n",
              " 'sign matur start say big thing actual start understand small thing nice even bslvyl',\n",
              " 'go dinner soon',\n",
              " 'realli need kiss u miss u babi ur babi eva',\n",
              " 'mani time told stage use laugh listen aha',\n",
              " 'cheer callin babe sozi culdnt talkbut wannatel u detail later wenwecan chat properli x',\n",
              " 'aight thank comin',\n",
              " 'alright sure let know leav',\n",
              " 'wonder world th th ur style th ur smile th ur person rd ur natur nd ur sm st ur love friendship good morn dear',\n",
              " 'well know mean text',\n",
              " 'like v shock leh co tell shuhui like tell leona also like dat almost know liao got ask abt ur reaction lor',\n",
              " 'ok lor reach messag',\n",
              " 'go fool dont cheat other ok',\n",
              " 'sweet heart',\n",
              " 'sorri brah finish last exam',\n",
              " 'tuesday night r u real',\n",
              " 'da what plan',\n",
              " 'tonight yeah',\n",
              " 'ye nigh cant aha',\n",
              " 'ye da plm ur offic',\n",
              " 'think thank see tomo',\n",
              " 'like spoil',\n",
              " 'wuld without babi thought alon mite break wanna go crazi everyboy need ladi xxxxxxxx',\n",
              " 'part initi understand',\n",
              " 'stitch trouser',\n",
              " 'let make saturday monday per conveni',\n",
              " 'see finish load loan pay',\n",
              " 'probabl still go stuff',\n",
              " 'havent shop lor juz arriv',\n",
              " 'yup leav right back soon',\n",
              " 'thank u',\n",
              " 'aight close still around alex place',\n",
              " 'k leav soon littl',\n",
              " 'mostli like',\n",
              " 'didnt get ur full msg sometext miss send',\n",
              " 'puriti friendship two smile read forward messag smile see name gud evng musthu',\n",
              " 'gentl princess make sweet gentl love',\n",
              " 'jay say put lt gt',\n",
              " 'class get text',\n",
              " 'sweet may may go u meet carlo gaug patti interest',\n",
              " 'cant pick phone right pl send messag',\n",
              " 'hurri home u big butt hang last caller u food done starv ask cook',\n",
              " 'manag puzzel',\n",
              " 'aight sound good want come',\n",
              " 'good even ttyl',\n",
              " 'channel',\n",
              " 'hey u still gym',\n",
              " 'okay soon best',\n",
              " 'cancel yeah babi well sound import understand darlin give ring later fone love kate x',\n",
              " 'sound good keep post',\n",
              " 'hi hope good day better night',\n",
              " 'bit ur smile hppnss drop ur tear sorrow part ur heart life heart like mine wil care u forevr goodfriend',\n",
              " 'heard abt tat',\n",
              " 'let math good',\n",
              " 'pleas protect e threat sib never ask sensit inform like password atm sm pin thru email never share password anybodi',\n",
              " 'send yetti number pl',\n",
              " 'seriou like proper tongu',\n",
              " 'like cheap happi splash wine make feel better',\n",
              " 'k still love',\n",
              " 'serious tell exact word right',\n",
              " 'sleep surf',\n",
              " 'dude got haircut breezi',\n",
              " 'import prevent dehydr give enough fluid',\n",
              " 'happi babi alright take job hope fine send kiss make smile across sea kiss kiss',\n",
              " 'oki',\n",
              " 'alway make thing bigger',\n",
              " 'mmmmmmm snuggl deep content sigh whisper fuck love much bare stand',\n",
              " 'oh unintent bad time great finger train play along give fifteen min warn',\n",
              " 'eat jap done oso aft ur lect wat got lect rite',\n",
              " 'offic around pm go hospit',\n",
              " 'wait till end march el nino get oh',\n",
              " 'sorri roommat took forev ok come',\n",
              " 'u mean u almost done done wif sleep tot u go take nap yup send liao pick ard smth lor',\n",
              " 'bugi oso near wat',\n",
              " 'dint touch',\n",
              " 'good morn boytoy yummi lip sexi bun think crave need',\n",
              " 'got rumour go buy apart chennai',\n",
              " 'k actual guy meet sunoco howard right way',\n",
              " 'xam hall boy ask girl tell start term di answer den manag lot hesit n lookin around silent said intha ponnungal ipaditan',\n",
              " 'oh babi hous come dont new pictur facebook',\n",
              " 'number gonna massiv pain ass rather get involv possibl',\n",
              " 'hi test lt gt rd',\n",
              " 'probabl coupl hour top',\n",
              " 'hey mate how u honey u ave good holiday gimmi de goss x',\n",
              " 'cool lt gt inch long hope like big',\n",
              " 'think u x',\n",
              " 'got got colour lor one colour quit light n e darker lor actual done style hair',\n",
              " 'mani depend',\n",
              " 'go n buy juz buy get lar',\n",
              " 'theyr lot place hospit medic place safe',\n",
              " 'yup song bro creativ neva test qualiti said check review onlin',\n",
              " 'ya knw u vl giv ok thank kano anyway enjoy wit ur famili wit st salari',\n",
              " 'ok enjoy r u home',\n",
              " 'quit know still get hold anyon cud pick bout pm see pub',\n",
              " 'check wid corect spele e sarcasm',\n",
              " 'pl full name joke school co fee univers florida seem actual lt gt k pl holla back',\n",
              " 'omg could snow tonit',\n",
              " 'e person e sm survey',\n",
              " 'pock',\n",
              " 'imagin life without see fast u search worri l alway disturb u goodnoon',\n",
              " 'mmm yummi babe nice jolt suzi',\n",
              " 'come home class right need work shower',\n",
              " 'send resum',\n",
              " 'need lar go engin co si art today',\n",
              " 'thought see',\n",
              " 'think wast rr',\n",
              " 'shop lor rain mah hard leav orchard',\n",
              " 'thk wat eat tonight',\n",
              " 'damn poor zac stand chanc',\n",
              " 'hey around got enough half ten owe',\n",
              " 'happi babi alright take job hope fine send kiss make smile across sea kiss kiss',\n",
              " 'convey regard',\n",
              " 'wish u mani mani return day happi birthday vikki',\n",
              " 'wanna gym harri',\n",
              " 'bring tat cd forget',\n",
              " 'hey j r u feel better hopeso hunni amnow feelin ill ithink may tonsolitusaswel damn iam layin bedreal bore lotsof luv xxxx',\n",
              " 'dip cell dead come u better respond els shall come back',\n",
              " 'noe specifi da domain nusstu still sch',\n",
              " 'lol ok rememb til last nite',\n",
              " 'bill that bad',\n",
              " 'thank u',\n",
              " 'time week ryan',\n",
              " 'puriti friendship two smile read forward messag smile see name gud evng musthu',\n",
              " 'eh ur laptop got stock lei say mon muz come take look c got',\n",
              " 'de ask like',\n",
              " 'join today formal pl keep pray talk later',\n",
              " 'total video convert free download type googl search',\n",
              " 'ye watch footi worri go blow phil nevil',\n",
              " 'life mean lot love life love peopl life world call friend call world ge',\n",
              " 'got shitload diamond though',\n",
              " 'thk lor dunno get ticket wat u',\n",
              " 'hello littl parti anim thought buzz friend grin remind love send naughti ador kiss',\n",
              " 'home',\n",
              " 'break time one come n get stuff fr',\n",
              " 'think sent text home phone cant display text still want send number',\n",
              " 'speak bcaz mobil problem listen cann listen voic call later',\n",
              " 'go lunch',\n",
              " 'pick',\n",
              " 'probabl eat today think gonna pop weekend u miss',\n",
              " 'batteri low babe',\n",
              " 'come ur home',\n",
              " 'sorri im stil fuck last nite went tobe got work',\n",
              " 'ya referin mei ex wat ah waitin u treat somebodi shld b rich liao gd den u dun work frm tmr onward',\n",
              " 'noth meant money enter account bank remov flat rate someon transfer lt gt account lt gt dollar got remov bank differ charg also differ sure trust ja person send account detail co',\n",
              " 'lot sick thing go round take easi hope u feel better soon lol',\n",
              " 'dint tell anyth angri told abi',\n",
              " 'pleas leav topic sorri tell',\n",
              " 'dint touch',\n",
              " 'oh k k take test',\n",
              " 'one stalk profil',\n",
              " 'great send account number',\n",
              " 'ok lor go tog lor',\n",
              " 'said bad dat e gal know u wat u',\n",
              " 'heard anyth answer text guess flake said jb fantast',\n",
              " 'oh yeah clearli fault',\n",
              " 'r comin back dinner',\n",
              " 'ok go sleep hope meet',\n",
              " 'sister go earn da',\n",
              " 'haha thinkin',\n",
              " 'think disturb da',\n",
              " 'much r will pay',\n",
              " 'anoth month need chocol weed alcohol',\n",
              " 'wonder world th th ur style th ur smile th ur person rd ur natur nd ur sm st ur love friendship good morn dear',\n",
              " 'watch movi alreadi xy want shop shop w',\n",
              " 'woke yeesh late fall asleep til lt gt',\n",
              " 'sorri call later',\n",
              " 'remind hr',\n",
              " 'drop tank',\n",
              " 'tag friend seem count friend',\n",
              " 'hey tell blake address carlo want meet got lost answer phone',\n",
              " 'oh charg camera',\n",
              " 'go write msg put dictionari mode cover screen hand press lt gt gentli remov ur hand interest',\n",
              " 'room',\n",
              " 'babe said hour almost internet',\n",
              " 'got back dislik bed',\n",
              " 'lol realli need rememb eat drink appreci keep compani night babe smile',\n",
              " 'hey girl r u hope u r well del r bak long time c give call sum time lucyxx',\n",
              " 'weird know one point',\n",
              " 'thank pick trash',\n",
              " 'frnd juz word mere relationship silent promis say wherevr whenevr forevr gudnyt dear',\n",
              " 'someon smoke everi time smoke last two week call text want smoke',\n",
              " 'call one pick e phone ask alreadi said ok',\n",
              " 'xy ur car u pick',\n",
              " 'ok thanx gd nite',\n",
              " 'aft finish lunch go str lor ard smth lor u finish ur lunch alreadi',\n",
              " 'okay seen pick friday',\n",
              " 'got new year co yetund said want surpris didnt see money return mid januari lt gt day return period end',\n",
              " 'joy father john john name joy father mandan',\n",
              " 'yeah think use gt atm regist sure anyway help let know sure readi',\n",
              " 'gonna way specif',\n",
              " 'love aathi love u lot',\n",
              " 'one day crab run sea shore wave came n clear footprint crab crab ask frnd r u clear beauti footprint wave repli fox follow ur footprint catch that clear frndsship never let u dwn gud nyt',\n",
              " 'wif buy tix lar',\n",
              " 'pure heart person wonder smile make even enemi feel guilti enemi catch world smile goodmorn amp smiley sunday',\n",
              " 'haha money leh later got go tuition haha look empti slot drive lesson',\n",
              " 'sorri call later',\n",
              " 'er yeah b sorri tell pub cafe sit come wen u',\n",
              " 'sir need velusami sir date birth compani bank facil detail',\n",
              " 'new year eve ok went parti boyfriend si hey',\n",
              " 'look back build coat want get sick hurri home wear coat gym',\n",
              " 'still otsid le u come morrow maga',\n",
              " 'fine thank',\n",
              " 'hurt teas make cri end life die plz keep one rose grave say stupid miss u nice day bslvyl',\n",
              " 'pleas ask mummi call father',\n",
              " 'theyr lot place hospit medic place safe',\n",
              " 'free call',\n",
              " 'cp caus outag conserv energi',\n",
              " 'toshiba porteg gd',\n",
              " 'sens foot peni',\n",
              " 'u mean u almost done done wif sleep tot u go take nap yup send liao pick ard smth lor',\n",
              " 'jesu armand realli tri tell everybodi find',\n",
              " 'still attend da talk',\n",
              " 'ok walik ard u wan buy anyth go ur hous',\n",
              " 'go write msg put dictionari mode cover screen hand press lt gt gentli remov ur hand interest',\n",
              " 'free call pa',\n",
              " 'serious spell name',\n",
              " 'honeybe said sweetest world god laugh amp said wait u havnt met person read msg moral even god crack joke gm gn ge gn',\n",
              " 'custom place call',\n",
              " 'awesom see bit',\n",
              " 'dun need use dial juz open da browser n surf',\n",
              " 'short cute good person dont tri prove gud noon',\n",
              " 'featheri bowa someth guy know',\n",
              " 'network technic support associ',\n",
              " 'ow u dey paid thousad told u would call',\n",
              " 'sorri join leagu peopl dont keep touch mean great deal friend time even great person cost great week',\n",
              " 'unbeliev faglord',\n",
              " 'ok part tomorrow',\n",
              " 'say somebodi name tampa',\n",
              " 'ok help ask work tmr',\n",
              " 'ok anyway need chang said',\n",
              " 'stuff sell tell',\n",
              " 'sorri abl get see morn',\n",
              " 'ok said got wisdom teeth hidden insid n mayb need remov',\n",
              " 'hank lotsli',\n",
              " 'shore takin bu',\n",
              " 'yupz oredi book slot weekend liao',\n",
              " 'misplac number send text old number wonder heard year best mcat got number atlanta friend',\n",
              " 'man bu slow think gonna get',\n",
              " 'hey sathya till dint meet even singl time saw situat sathya',\n",
              " 'u ask next sat make ok lor',\n",
              " 'yar quit clever aft mani guess lor got ask bring thk darren will go aiya thk leona still attach wat',\n",
              " 'accident brought em home box',\n",
              " 'oh ho first time u use type word',\n",
              " 'shit realli shock scari cant imagin second def night u think somewher could crash night save taxi',\n",
              " 'made eta taunton plan hope still okday good see xx',\n",
              " 'hi darlin im helen fone im gonna b princ nite pleas come tb love kate',\n",
              " 'ok ill tell compani',\n",
              " 'futur plan tomorrow result today best present enjoy futur',\n",
              " 'solv case man found murder lt decim gt lt gt afternoon wife call polic polic question everyon wife sir sleep murder took place cook cook garden pick veget hous maid went post offic children went play neighbour went marriag polic arrest murder immedi repli reason u r brilliant',\n",
              " 'sorri guess whenev get hold connect mayb hour two text',\n",
              " 'oh love soooo good hear omg miss much today sorri problem provid thank tming',\n",
              " 'almost see u sec',\n",
              " '',\n",
              " 'u talk',\n",
              " 'im sorri bout last nite ur fault spous pmt sumthin u give think u shldxxxx',\n",
              " 'x cours yr messag messeng lik r send',\n",
              " 'sorri call later',\n",
              " 'k girl wait recept ah',\n",
              " 'surpris still guess right lor',\n",
              " 'dun thk quit yet hmmm go jazz yogasana oso go meet em lesson den',\n",
              " 'like person size',\n",
              " 'wish great day moji told offer alway speechless offer easili go great length behalf stun exam next friday keep touch sorri',\n",
              " 'make cri stuff happen top everyth els push edg underdtand often cri sorri sorri life',\n",
              " 'hey come onlin use msn',\n",
              " 'know dad back',\n",
              " 'text drop x',\n",
              " 'think need go late school night especi one class one miss last wednesday probabl fail test friday',\n",
              " 'shall send exe mail id',\n",
              " 'lara said loan lt gt',\n",
              " 'storm msg wen u lift phne u say hello u knw wt real mean hello name girl ye u knw dat girl margaret hello girlfrnd f grahmbel invnt telphon moral one get name person bt girlfrnd g n g h',\n",
              " 'sorri sir call tomorrow senthil hsbc',\n",
              " 'how street end librari walk',\n",
              " 'pick variou point go yeovil motor project hour u take home max easi',\n",
              " 'told tell stupid hear wont tell anyth dad call brother spoken',\n",
              " 'cal sir meet',\n",
              " 'got new year co yetund said want surpris didnt see money return mid januari lt gt day return period end',\n",
              " 'hahaha use brain dear',\n",
              " 'know watch film comput',\n",
              " 'tell think plu go stop run',\n",
              " 'ye da plm ur offic',\n",
              " 'come sec somebodi want see',\n",
              " 'good morn repair shop reason hour',\n",
              " 'yup free',\n",
              " 'per request mell mell oru minnaminungint nurungu vettam set callertun caller press copi friend callertun',\n",
              " 'watch lotr w si di aft u wan meet dinner nite',\n",
              " 'arriv see coupl day lt',\n",
              " 'realli dun bluff leh u sleep earli nite',\n",
              " 'squeeeeez christma hug u lik frndshp den hug back u get u r cute u r luvd u r lucki none peopl hate u',\n",
              " 'nice wait text right gonna pay ticket ya know',\n",
              " 'manag puzzel',\n",
              " 'still tonight',\n",
              " 'dont shall buy one dear',\n",
              " 'hiya sorri hav signal seen heard neither unusu put case get sort hug snog',\n",
              " 'er yep sure prop',\n",
              " 'angri happen dear',\n",
              " 'yeah open chat click friend list make list easi pie',\n",
              " 'outsid island head toward hard rock run',\n",
              " 'good morn boytoy yummi lip sexi bun think crave need',\n",
              " 'flippin shit yet',\n",
              " 'lt decim gt common car better buy china asia find less expens holla',\n",
              " 'r u sam p eachoth meet go hous',\n",
              " 'plz tell an bslvyl sent via fullonsm com',\n",
              " 'wonder co dun rem see silver car thk saw black one',\n",
              " 'open door',\n",
              " 'finish liao u',\n",
              " 'oh oki lor go sat',\n",
              " 'way home long dri spell season would',\n",
              " 'anyth',\n",
              " 'eatin lunch',\n",
              " 'prob hon u doinat mo',\n",
              " 'right meanwhil project twin comin',\n",
              " 'aight wat happen side',\n",
              " 'ok thanx',\n",
              " 'call unabl cal let meet bhaskar deep',\n",
              " 'umma life vava umma love lot dear',\n",
              " 'nope drivin neva develop da photo lei',\n",
              " 'thanx send home',\n",
              " 'lt gt fast approach wish u happi new year happi sankranti happi republ day happi valentin day happi shivratri happi ugadi happi fool day happi may day happi independ day happi friendship mother father teacher children day amp happi birthday u happi ganesh festiv happi dasara happi diwali happi christma lt gt good morn afternoon even night rememberi first wish u raj',\n",
              " 'said anyth wrong sorri de',\n",
              " 'camera quit good mega pixel optic digit doom love holiday safe hope hav good journey happi new year see coupl week',\n",
              " 'big god bring success',\n",
              " 'seriou like proper tongu',\n",
              " 'slept thinkthi time lt gt pm danger',\n",
              " 'k make sens btw carlo difficult guy gonna smoke go pick second batch get ga',\n",
              " 'greatest test courag earth bear defeat without lose heart gn tc',\n",
              " 'rose red red blood blood heart heart u u send ti ur friend includ u like u get back u r poor relat u need support u r frnd mani luv u pray god marri u tri',\n",
              " 'plan manag',\n",
              " 'could kiss feel next',\n",
              " 'ok ok take care understand',\n",
              " 'watch cartoon listen music amp eve go templ amp church u',\n",
              " 'got divorc lol',\n",
              " 'ha us e thing got tv watch u thk go tonight u alreadi haf smth mind',\n",
              " 'wil lt gt minut got space',\n",
              " 'wonder other took',\n",
              " 'know peopl still town',\n",
              " 'wet right',\n",
              " 'also chat awesom make regular unless see person',\n",
              " 'promis get soon text morn let know made ok',\n",
              " 'submit da project tmr rite',\n",
              " 'dun believ leh tot told true alreadi thk muz c us tog believ',\n",
              " 'nope that fine might nap tho',\n",
              " 'need come home give good lovin',\n",
              " 'eek lot time especi sinc american pie like minut long stop sing',\n",
              " 'aight close still around alex place',\n",
              " 'class lt gt reunion',\n",
              " 'lift hope offer money need especi end month approach hurt studi anyway gr weekend',\n",
              " 'heard abt tat',\n",
              " 'dun need pick ur gf',\n",
              " 'ok lor soni ericsson salesman ask shuhui say quit gd use consid',\n",
              " 'happi new year hope good semest',\n",
              " 'u better go sleep dun disturb u liao u wake msg lor',\n",
              " 'chang window logoff sound',\n",
              " 'plan yet',\n",
              " 'need buy lunch eat maggi mee',\n",
              " 'stop call everyon say might cancer throat hurt talk answer everyon call get one call babysit monday',\n",
              " 'nvm go wear sport shoe anyway go late leh',\n",
              " 'still look job much ta earn',\n",
              " 'anyth lor',\n",
              " 'night end anoth day morn come special way may smile like sunni ray leav worri blue blue bay gud mrng',\n",
              " 'busi tri finish new year look forward final meet',\n",
              " 'near kalainar tv offic thenampet',\n",
              " 'plz tell an bslvyl sent via fullonsm com',\n",
              " 'hey cuti goe wale kinda ok like hill shit still avent kill',\n",
              " 'ok go chang also',\n",
              " 'si lor juz watch italian job',\n",
              " 'hi darlin kate u doin somethin tonight im go pub call swan someth parent one drink phone u',\n",
              " 'fuck babe happen come never came back',\n",
              " 'true easier',\n",
              " 'derp wors dude alway want parti dude file complaint three drug abus live',\n",
              " 'love',\n",
              " 'oop mum somerset bit far back tomo see soon x',\n",
              " 'haha thinkin',\n",
              " 'search right word thank breather promis wont take help grant fulfil promis wonder bless time',\n",
              " 'exam februari wish great day',\n",
              " 'cant pick phone right pl send messag',\n",
              " 'speak bcaz mobil problem listen cann listen voic call later',\n",
              " 'get tomorrow send',\n",
              " 'hous maid murder coz man murder lt gt th januari public holiday govt instituit close includ post offic understand',\n",
              " 'leav u alway ignor',\n",
              " 'hous e sky quit dark liao rain got excus run alreadi rite hee',\n",
              " 'go chase run cross street',\n",
              " 'hey tmr meet bugi',\n",
              " 'decid peopl care stuff vote care stuff loser',\n",
              " 'mm kanji dont eat anyth heavi ok',\n",
              " 'noth get msg di name wit differ',\n",
              " 'somewhr someon sure made u god decid perfect time make u meet dat person till den enjoy ur crush',\n",
              " 'never blame day ur life good day give u happi bad day give u experi essenti life god bless good morn',\n",
              " 'ah see lingo let know wot earth finish make',\n",
              " 'u say leh cours noth happen lar say v romant ju bit lor thk e nite sceneri nice leh',\n",
              " 'oh grand bit parti mention cover charg probabl first come first serv',\n",
              " 'dear umma call',\n",
              " 'sen told go join uncl financ cbe',\n",
              " 'want mapquest someth look usf dogwood drive tini street park lot',\n",
              " 'annoy',\n",
              " 'yup give problem mayb ju leav',\n",
              " 'aight time want come',\n",
              " 'good good job like entrepreneur',\n",
              " 'hi da today class',\n",
              " 'lol gonna last month cash left lt gt case collect week caus announc blog',\n",
              " 'great aunt anniversari parti tarpon spring',\n",
              " 'k marrow come class',\n",
              " 'hai dear friend new amp present number rajitha raj ranju',\n",
              " 'naughti littl thought better flirt flirt n flirt rather love someon n gettin hurt hurt n hurt gud nyt',\n",
              " 'hi mom might back later lt gt',\n",
              " 'tell think plu go stop run',\n",
              " 'find way includ detail',\n",
              " 'take exam march',\n",
              " 'final readi fyi',\n",
              " 'tomarrow final hear laptop case cant',\n",
              " 'lol would despit cramp like girl',\n",
              " 'pl accept one day beg chang number',\n",
              " 'never noth',\n",
              " 'yet ya sapna aunti maneg day hogidh chinnu full weak swalpa black agidhan',\n",
              " 'oki',\n",
              " 'fine hope also',\n",
              " 'tht god gift bird human hav natur gift frm god',\n",
              " 'nw came hme da',\n",
              " 'olol print forum post guy exact prob fix gpu replac hope dont ignor',\n",
              " 'nope juz work',\n",
              " 'free entri wkli comp win fa cup final tkt st may text fa receiv entri question std txt rate c appli',\n",
              " 'freemsg hey darl week word back like fun still tb ok xxx std chg send rcv',\n",
              " 'winner valu network custom select receivea prize reward claim call claim code kl valid hour',\n",
              " 'mobil month u r entitl updat latest colour mobil camera free call mobil updat co free',\n",
              " 'six chanc win cash pound txt csh send cost p day day tsandc appli repli hl info',\n",
              " 'urgent week free membership prize jackpot txt word claim c www dbuk net lccltd pobox ldnw rw',\n",
              " 'xxxmobilemovieclub use credit click wap link next txt messag click http wap xxxmobilemovieclub com n qjkgighjjgcbl',\n",
              " 'england v macedonia dont miss goal team news txt ur nation team eg england tri wale scotland txt poboxox w wq',\n",
              " 'thank subscript rington uk mobil charg month pleas confirm repli ye repli charg',\n",
              " 'rodger burn msg tri call repli sm free nokia mobil free camcord pleas call deliveri tomorrow',\n",
              " 'sm ac sptv new jersey devil detroit red wing play ice hockey correct incorrect end repli end sptv',\n",
              " 'congrat year special cinema pass call c suprman v matrix starwar etc free bx ip pm dont miss',\n",
              " 'valu custom pleas advis follow recent review mob award bonu prize call',\n",
              " 'urgent ur award complimentari trip eurodisinc trav aco entri claim txt di morefrmmob shracomorsglsuplt ls aj',\n",
              " 'hear new divorc barbi come ken stuff',\n",
              " 'pleas call custom servic repres pm guarante cash prize',\n",
              " 'free rington wait collect simpli text password mix verifi get usher britney fml po box mk h ppw',\n",
              " 'gent tri contact last weekend draw show prize guarante call claim code k valid hr ppm',\n",
              " 'winner u special select receiv holiday flight inc speak live oper claim p min',\n",
              " 'privat account statement show unredeem bonu point claim call identifi code expir',\n",
              " 'urgent mobil award bonu caller prize final tri contact u call landlin box wr c ppm',\n",
              " 'today voda number end select receiv award match pleas call quot claim code standard rate app',\n",
              " 'sunshin quiz wkli q win top soni dvd player u know countri algarv txt ansr sp tyron',\n",
              " 'want get laid tonight want real dog locat sent direct ur mob join uk largest dog network bt txting gravel nt ec p msg p',\n",
              " 'rcv msg chat svc free hardcor servic text go u get noth u must age verifi yr network tri',\n",
              " 'freemsg repli text randi sexi femal live local luv hear u netcollex ltd p per msg repli stop end',\n",
              " 'custom servic annonc new year deliveri wait pleas call arrang deliveri',\n",
              " 'winner u special select receiv cash holiday flight inc speak live oper claim',\n",
              " 'pl stop bootydeli f invit friend repli ye see www sm ac u bootydeli stop send stop frnd',\n",
              " 'bangbab ur order way u receiv servic msg download ur content u goto wap bangb tv ur mobil internet servic menu',\n",
              " 'urgent tri contact last weekend draw show prize guarante call claim code valid hr',\n",
              " 'pleas call custom servic repres freephon pm guarante cash prize',\n",
              " 'uniqu enough find th august www areyouuniqu co uk',\n",
              " 'new mobil must go txt nokia collect today www tc biz optout gbp mtmsg',\n",
              " 'u meet ur dream partner soon ur career flyng start find free txt horo follow ur star sign e g horo ari',\n",
              " 'text meet someon sexi today u find date even flirt u join p repli name age eg sam msg recd thirtyeight penc',\n",
              " 'u secret admir look make contact u find r reveal think ur special call',\n",
              " 'congratul ur award cd voucher gift guarante free entri wkli draw txt music tnc www ldew com win ppmx age',\n",
              " 'tri contact repli offer video handset anytim network min unlimit text camcord repli call',\n",
              " 'hey realli horni want chat see nake text hot text charg pm unsubscrib text stop',\n",
              " 'ur rington servic chang free credit go club mobil com choos content stop txt club stop p wk club po box mk wt',\n",
              " 'rington club get uk singl chart mobil week choos top qualiti rington messag free charg',\n",
              " 'hmv bonu special pound genuin hmv voucher answer easi question play send hmv info www percent real com',\n",
              " 'mobil custom may claim free camera phone upgrad pay go sim card loyalti call offer end thfeb c appli',\n",
              " 'sm ac blind date u rodd aberdeen unit kingdom check http img sm ac w icmb cktz r blind date send hide',\n",
              " 'themob check newest select content game tone gossip babe sport keep mobil fit funki text wap',\n",
              " 'think ur smart win week weekli quiz text play cs winnersclub po box uz gbp week',\n",
              " 'decemb mobil mth entitl updat latest colour camera mobil free call mobil updat co free',\n",
              " 'call germani penc per minut call fix line via access number prepay direct access',\n",
              " 'valentin day special win quiz take partner trip lifetim send go p msg rcvd custcar',\n",
              " 'fanci shag interest sextextuk com txt xxuk suzi txt cost per msg tnc websit x',\n",
              " 'congratul ur award cd voucher gift guarante free entri wkli draw txt music tnc www ldew com win ppmx age',\n",
              " 'ur cash balanc current pound maxim ur cash send cash p msg cc hg suit land row w j hl',\n",
              " 'updat xma offer latest motorola sonyericsson nokia free bluetooth doubl min txt orang call mobileupd call optout f q',\n",
              " 'discount code rp stop messag repli stop www regalportfolio co uk custom servic',\n",
              " 'thank rington order refer charg gbp per week unsubscrib anytim call custom servic',\n",
              " 'doubl min txt month free bluetooth orang avail soni nokia motorola phone call mobileupd call optout n dx',\n",
              " 'mth half price orang line rental latest camera phone free phone mth call mobilesdirect free updat stoptxt',\n",
              " 'free rington text first poli text get true tone help st free tone x pw e nd txt stop',\n",
              " 'date servic cal l box sk ch',\n",
              " 'free entri weekli competit text word win c www txttowin co uk',\n",
              " 'send logo ur lover name join heart txt love name name mobno eg love adam eve yahoo pobox w wq txtno ad p',\n",
              " 'someon contact date servic enter phone fanci find call landlin pobox n tf p',\n",
              " 'urgent mobil number award prize guarante call land line claim valid hr',\n",
              " 'congrat nokia video camera phone call call cost ppm ave call min vari mobil close post bcm ldn wc n xx',\n",
              " 'loan purpos homeown tenant welcom previous refus still help call free text back help',\n",
              " 'upgrdcentr orang custom may claim free camera phone upgrad loyalti call offer end th juli c appli opt avail',\n",
              " 'okmail dear dave final notic collect tenerif holiday cash award call landlin tc sae box cw wx ppm',\n",
              " 'want get laid tonight want real dog locat sent direct ur mob join uk largest dog network txting moan nyt ec p msg p',\n",
              " 'free messag activ free text messag repli messag word free term condit visit www com',\n",
              " 'congrat year special cinema pass call c suprman v matrix starwar etc free bx ip pm dont miss',\n",
              " 'congratul week competit draw u prize claim call b cs stop sm ppm',\n",
              " 'guarante latest nokia phone gb ipod mp player prize txt word collect ibhltd ldnw h p mtmsgrcvd',\n",
              " 'boltblu tone p repli poli mono eg poli cha cha slide yeah slow jamz toxic come stop tone txt',\n",
              " 'credit top http www bubbletext com renew pin tgxxrz',\n",
              " 'urgent mobil award bonu caller prize nd attempt contact call box qu',\n",
              " 'today offer claim ur worth discount voucher text ye savamob member offer mobil cs sub unsub repli x',\n",
              " 'reciev tone within next hr term condit pleas see channel u teletext pg',\n",
              " 'privat account statement show un redeem point call identifi code expir',\n",
              " 'www applausestor com monthlysubscript p msg max month csc web age stop txt stop',\n",
              " 'gent tri contact last weekend draw show prize guarante call claim code k valid hr ppm',\n",
              " 'cash prize claim call',\n",
              " 'mobil number claim call us back ring claim hot line',\n",
              " 'tri contact repli offer min textand new video phone call repli free deliveri tomorrow',\n",
              " 'ur chanc win wkli shop spree txt shop c www txt shop com custcar x p wk',\n",
              " 'special select receiv pound award call line close cost ppm cs appli ag promo',\n",
              " 'privat account statement show un redeem point call identifi code expir',\n",
              " 'import custom servic announc call freephon',\n",
              " 'xclusiv clubsaisai morow soire special zouk nichol pari free rose ladi info',\n",
              " 'day kick euro u kept date latest news result daili remov send get txt stop',\n",
              " 'new textbuddi chat horni guy ur area p free receiv search postcod gaytextbuddi com txt one name',\n",
              " 'today vodafon number end select receiv award number match call receiv award',\n",
              " 'dear voucher holder claim week offer pc go http www e tlp co uk expressoff ts cs appli stop text txt stop',\n",
              " 'privat account statement show un redeem point call identifi code expir',\n",
              " 'cash prize claim call c rstm sw ss ppm',\n",
              " 'premium phone servic call',\n",
              " 'sm ac sun post hello seem cool want say hi hi stop send stop',\n",
              " 'get ur st rington free repli msg tone gr top tone phone everi week per wk opt send stop',\n",
              " 'hi sue year old work lapdanc love sex text live bedroom text sue textoper g da ppmsg',\n",
              " 'forward pleas call immedi urgent messag wait',\n",
              " 'review keep fantast nokia n gage game deck club nokia go www cnupdat com newslett unsubscrib alert repli word',\n",
              " 'mth half price orang line rental latest camera phone free phone mth call mobilesdirect free updat stoptxt cs',\n",
              " 'pm cost p',\n",
              " 'urgent nd attempt contact u u call b csbcm wc n xx callcost ppm mobilesvari max',\n",
              " 'guarante cash prize claim yr prize call custom servic repres pm',\n",
              " 'email alertfrom jeri stewarts kbsubject low cost prescripiton drvgsto listen email call',\n",
              " 'hi custom loyalti offer new nokia mobil txtauction txt word start get ctxt tc p mtmsg',\n",
              " 'u subscrib best mobil content servic uk per day send stop helplin',\n",
              " 'realiz year thousand old ladi run around tattoo',\n",
              " 'import custom servic announc premier',\n",
              " 'romant pari night flight book next year call ts cs appli',\n",
              " 'urgent ur guarante award still unclaim call closingd claimcod pmmorefrommobil bremov mobypobox ls yf',\n",
              " 'ur award citi break could win summer shop spree everi wk txt store skilgm tsc winawk age perwksub',\n",
              " 'import custom servic announc premier call freephon',\n",
              " 'ever thought live good life perfect partner txt back name age join mobil commun p sm',\n",
              " 'free top polyphon tone call nation rate get toppoli tune sent everi week text subpoli per pole unsub',\n",
              " 'orang custom may claim free camera phone upgrad loyalti call offer end thmarch c appli opt availa',\n",
              " 'last chanc claim ur worth discount voucher today text shop savamob offer mobil cs savamob pobox uz sub',\n",
              " 'free st week nokia tone ur mobil everi week txt nokia get txting tell ur mate www getz co uk pobox w wq norm p tone',\n",
              " 'guarante award even cashto claim ur award call free stop getstop php rg jx',\n",
              " 'congratul ur award either cd gift voucher free entri weekli draw txt music tnc www ldew com win ppmx age',\n",
              " 'u outbid simonwatson shinco dvd plyr bid visit sm ac smsreward end bid notif repli end',\n",
              " 'smsservic yourinclus text credit pl goto www comuk net login qxj unsubscrib stop extra charg help comuk cm ae',\n",
              " 'p alfi moon children need song ur mob tell ur txt tone chariti nokia poli chariti poli zed profit chariti',\n",
              " 'u secret admir reveal think u r special call opt repli reveal stop per msg recd cust care',\n",
              " 'dear voucher holder claim week offer pc pleas go http www e tlp co uk expressoff ts cs appli stop text txt stop',\n",
              " 'want anytim network min text new video phone five pound per week call repli deliveri tomorrow',\n",
              " 'tri contact offer new video phone anytim network min half price rental camcord call repli deliveri wed',\n",
              " 'last chanc claim ur worth discount voucher text ye savamob member offer mobil cs sub remov txt x stop',\n",
              " 'urgent call landlin complimentari ibiza holiday cash await collect sae cs po box sk wp ppm',\n",
              " 'today offer claim ur worth discount voucher text ye savamob member offer mobil cs sub unsub repli x',\n",
              " 'talk sexi make new friend fall love world discreet text date servic text vip see could meet',\n",
              " 'congratul ur award either yr suppli cd virgin record mysteri gift guarante call ts cs www smsco net pm approx min',\n",
              " 'privat account statement xxxxxx show un redeem point call identifi code expir',\n",
              " 'hello need posh bird chap user trial prod champney put need address dob asap ta r',\n",
              " 'u want xma free text messag new video phone half price line rental call free find',\n",
              " 'shop till u drop either k k cash travel voucher call ntt po box cr bt fixedlin cost ppm mobil vari',\n",
              " 'sunshin quiz wkli q win top soni dvd player u know countri liverpool play mid week txt ansr sp tyron',\n",
              " 'u secret admir look make contact u find r reveal think ur special call',\n",
              " 'u secret admir look make contact u find r reveal think ur special call stopsm',\n",
              " 'remind download content alreadi paid goto http doit mymobi tv collect content',\n",
              " 'free rington wait collect simpli text password mix verifi get usher britney fml po box mk h ppw',\n",
              " 'lastest stereophon marley dizze racal libertin stroke win nookii game flirt click themob wap bookmark text wap',\n",
              " 'januari male sale hot gay chat cheaper call nation rate p min cheap p min peak stop text call p min',\n",
              " 'money r lucki winner claim prize text money million give away ppt x normal text rate box w jy',\n",
              " 'dear matthew pleas call landlin complimentari lux tenerif holiday cash await collect ppm sae cs box sk xh',\n",
              " 'urgent call landlin complimentari tenerif holiday cash await collect sae cs box hp yf ppm',\n",
              " 'get touch folk wait compani txt back name age opt enjoy commun p sm',\n",
              " 'ur cash balanc current pound maxim ur cash send go p msg cc po box tcr w',\n",
              " 'filthi stori girl wait',\n",
              " 'urgent tri contact u today draw show prize guarante call land line claim valid hr',\n",
              " 'congrat mobil g videophon r call videochat wid mate play java game dload polyph music nolin rentl',\n",
              " 'pleas call custom servic repres freephon pm guarante cash prize',\n",
              " 'panason bluetoothhdset free nokia free motorola free doublemin doubletxt orang contract call mobileupd call optout',\n",
              " 'free st week nokia tone ur mob everi week txt nokia get txting tell ur mate www getz co uk pobox w wq norm p tone',\n",
              " 'guess somebodi know secretli fanci wanna find give us call landlin datebox essexcm xn p min',\n",
              " 'know someon know fanci call find pobox ls hb p',\n",
              " 'flirt txt girl bloke ur name age eg girl zoe join get chat',\n",
              " 'day euro kickoff u kept inform latest news result daili unsubscrib send get euro stop',\n",
              " 'eastend tv quiz flower dot compar violet e tulip f lili txt e f chanc win cash wkent p',\n",
              " 'new local date area lot new peopl regist area repli date start www flirtparti us repli',\n",
              " 'someon u know ask date servic contact cant guess call reveal po box wu',\n",
              " 'urgent tri contact u today draw show prize guarante call land line claim c valid hr',\n",
              " 'dear u invit xchat final attempt contact u txt chat',\n",
              " 'award sipix digit camera call landlin deliveri within day cs box bp yr warranti ppm p p',\n",
              " 'win urgent mobil number award prize guarante call land line claim valid hr ppm',\n",
              " 'dear subscrib ur draw gift voucher b enter receipt correct an elvi presley birthday txt answer',\n",
              " 'messag import inform user today lucki day find log onto http www urawinn com fantast surpris await',\n",
              " 'price claim call',\n",
              " 'bore speed date tri speedchat txt speedchat like em txt swap get new chatter chat pobox w wq p msg rcd',\n",
              " 'want anytim network min text new video phone five pound per week call repli deliveri tomorrow',\n",
              " 'take part mobil survey yesterday text use howev wish get txt send txt c www txt com p',\n",
              " 'ur hmv quiz cash balanc current maxim ur cash send hmv p msg',\n",
              " 'dont forget place mani free request stchoic co uk wish inform call',\n",
              " 'know u u know send chat let find p msg rcvd hg suit land row w j hl ldn year',\n",
              " 'thank winner notifi sm good luck futur market repli stop custom servic',\n",
              " 'girl mani local u r virgin r readi fil ur everi sexual need u fil text cute p',\n",
              " 'free entri wkli comp win fa cup final tkt st may text fa receiv entri question std txt rate c appli',\n",
              " 'got take take part wrc ralli oz u lucozad energi text ralli le p see pack lucozad co uk wrc itcould u',\n",
              " 'sex ur mobil free sexi pic jordan text babe everi wk get sexi celeb pocketbab co uk pic wk',\n",
              " 'new voicemail pleas call',\n",
              " 'win year suppli cd store ur choic worth enter weekli draw txt music ts cs www ldew com sub win ppmx',\n",
              " 'sim subscrib select receiv bonu get deliv door txt word ok claim p msg exp apr',\n",
              " 'new voicemail pleas call',\n",
              " 'nokia tone ur mob everi week txt nok st tone free get txtin tell ur friend p tone repli hl info',\n",
              " 'winner u special select receiv cash holiday flight inc speak live oper claim',\n",
              " 'repli name address receiv post week complet free accommod variou global locat www phb com ph p',\n",
              " 'free entri weekli comp send word enter c www textcomp com cust care',\n",
              " 'pleas call immedi urgent messag wait',\n",
              " 'hungri gay guy feel hungri call p min stop text call p min',\n",
              " 'u get phone wanna chat set meet call u cum moro luv jane xx call minmoremobsemspobox po wa',\n",
              " 'network oper servic free c visit biz',\n",
              " 'enjoy jamster videosound gold club credit new videosound logo musicnew get fun jamster co uk help call',\n",
              " 'get lion england tone repli lionm mono lionp poli go www rington co uk origin n best tone gbp network oper rate appli',\n",
              " 'win newest harri potter order phoenix book repli harri answer question chanc first among reader',\n",
              " 'ur balanc ur next question sang uptown girl answer txt ur answer good luck',\n",
              " 'free day sexi st georg day pic jordan txt pic dont miss everi wk sauci celeb pic c pocketbab co uk wk',\n",
              " 'hot live fantasi call p per min ntt ltd po box croydon cr wb k',\n",
              " 'bear pic nick tom pete dick fact type tri gay chat photo upload call p min stop text call',\n",
              " 'new mobil must go txt nokia collect today www tc biz optout gbp mtmsg txtauction',\n",
              " 'doubl min doubl txt price linerent latest orang bluetooth mobil call mobileupd latest offer call optout lf',\n",
              " 'nokia tone ur mob everi week txt nok st tone free get txtin tell ur friend p tone repli hl info',\n",
              " 'urgent import inform user today lucki day find log onto http www urawinn com fantast surpris await',\n",
              " 'dear u invit xchat final attempt contact u txt chat p msgrcvdhg suit land row w j hl ldn yr',\n",
              " 'congratul ur award either cd gift voucher free entri weekli draw txt music tnc www ldew com win ppmx age',\n",
              " 'sale arsen dartboard good condit doubl trebl',\n",
              " 'free st week entri textpod chanc win gb ipod cash everi wk txt pod ts cs www textpod net custcar',\n",
              " 'regist optin subscrib ur draw gift voucher enter receipt correct an what bbc chart',\n",
              " 'summer final fanci chat flirt sexi singl yr area get match repli summer free join optout txt stop help',\n",
              " 'clair havin borin time alon u wanna cum nite chat hope c u luv clair xx call minmoremobsemspobox po wa',\n",
              " 'bought one rington get text cost pound offer tone etc',\n",
              " 'urgent mobil xxxxxxxxx bonu caller prize nd attempt reach call asap',\n",
              " 'guarante latest nokia phone gb ipod mp player prize txt word collect tc llc ny usa p mt msgrcvd',\n",
              " 'hi luci hubbi meetin day fri b alon hotel u fanci cumin pl leav msg day luci x call minmobsmorelkpobox hp fl',\n",
              " 'account credit free text messag activ txt word credit cs www biz',\n",
              " 'sm ac jsco energi high u may know channel day ur leadership skill r strong psychic repli an w question end repli end jsco',\n",
              " 'hot live fantasi call p per min ntt ltd po box croydon cr wb nation rate call',\n",
              " 'thank vote sing along star karaok mobil free link repli sing',\n",
              " 'brand new mobil music servic live free music player arriv shortli instal phone brows content top artist',\n",
              " 'urgent mobil award bonu caller prize nd attempt contact call box qu bt nation rate',\n",
              " 'nokia get win free auction take part send nokia hg suit land row w jhl',\n",
              " 'hello orang month free access game news sport plu free text photo messag repli ye term appli www orang co uk ow',\n",
              " 'ur cash balanc current pound maxim ur cash send go p msg cc hg suit land row w j hl',\n",
              " 'sm auction brand new nokia auction today auction free join take part txt nokia hg suit land row w j hl',\n",
              " 'privat account statement show un redeem point call identifi code expir',\n",
              " 'regist subscrib yr draw gift voucher b enter receipt correct an next olymp txt an',\n",
              " 'urgent mobil number award prize guarante call land line claim valid hr ppm',\n",
              " 'rt king pro video club need help info ringtonek co uk call must club credit redeem www ringtonek co uk enjoy',\n",
              " 'u secret admir look make contact u find r reveal think ur special call',\n",
              " 'free text msg text ok credit account',\n",
              " 'select stay top british hotel noth holiday worth claim call london bx sw ss',\n",
              " 'eeri nokia tone u rpli tone titl eg tone dracula titl ghost addamsfa munster exorcist twilight www getz co uk pobox w wq p',\n",
              " 'network allow compani bill sm respons supplier shop give guarante sell b g',\n",
              " 'freemsg feelin kinda lnli hope u like keep compani jst got cam mobi wanna c pic txt repli date msg p rcv hlp stop',\n",
              " 'ur chanc win cash everi wk txt action c www movietrivia tv custcar x p wk',\n",
              " 'rgent nd attempt contact u u call b csbcm wc n xx callcost ppm mobilesvari max',\n",
              " 'hi ur lookin sauci daytim fun wiv busti marri woman free next week chat sort time janinexx call minmobsmorelkpobox hp fl',\n",
              " 'urgent tri contact u today draw show prize guarante call land line claim valid hr',\n",
              " 'monthli password wap mobsi com use wap phone pc',\n",
              " 'today vodafon number end last four digit select receiv award number match pleas call claim award',\n",
              " 'free top rington sub weekli rington get st week free send subpoli per week stop sm',\n",
              " 'sunshin quiz wkli q win top soni dvd player u know countri algarv txt ansr sp tyron',\n",
              " 'free msg sorri servic order could deliv suffici credit pleas top receiv servic',\n",
              " 'hard live chat p min choos girl connect live call cheap chat uk biggest live servic vu bcm wc n xx',\n",
              " 'wow boy r back take uk tour win vip ticket pre book vip club txt club trackmarqu ltd info vipclub u',\n",
              " 'hi mandi sullivan call hotmix fm chosen receiv easter prize draw pleas telephon claim prize transfer someon els',\n",
              " 'ur go bahama callfreefon speak live oper claim either bahama cruis cash opt txt x',\n",
              " 'someon conact date servic enter phone fanci find call landlin pobox n tf',\n",
              " 'hi ibh custom loyalti offer new nokia mobil txtauction txt word start get',\n",
              " 'sm auction nokia get win free auction take part send nokia hg suit land row w jhl',\n",
              " 'call freephon',\n",
              " 'buy space invad chanc win orig arcad game consol press game arcad std wap charg see co uk game term set purchas',\n",
              " 'loan purpos homeown tenant welcom previous refus still help call free text back help',\n",
              " ...]"
            ]
          },
          "metadata": {},
          "execution_count": 35
        }
      ]
    },
    {
      "cell_type": "code",
      "source": [
        "from sklearn.feature_extraction.text import TfidfVectorizer\n",
        "tfidf=TfidfVectorizer()\n",
        "x=tfidf.fit_transform(corpus).toarray()"
      ],
      "metadata": {
        "id": "roSzr3pm75VE"
      },
      "execution_count": 36,
      "outputs": []
    },
    {
      "cell_type": "code",
      "source": [
        "y=pd.get_dummies(data['label'])\n",
        "y=y.iloc[:,1].values"
      ],
      "metadata": {
        "id": "FdZTmEqZ93q9"
      },
      "execution_count": 37,
      "outputs": []
    },
    {
      "cell_type": "code",
      "source": [
        "# Split the data into train and test\n",
        "\n",
        "from sklearn.model_selection import train_test_split\n",
        "x_train,x_test,y_train,y_test=train_test_split(x,y,test_size=0.2,random_state=1)"
      ],
      "metadata": {
        "id": "eqOOY7v--G6m"
      },
      "execution_count": 38,
      "outputs": []
    },
    {
      "cell_type": "code",
      "source": [
        "from sklearn.naive_bayes import MultinomialNB\n",
        "spam_detect_model=MultinomialNB().fit(x_train,y_train)\n",
        "y_pred_train_nb=spam_detect_model.predict(x_train)\n",
        "y_pred_test_nb=spam_detect_model.predict(x_test)"
      ],
      "metadata": {
        "id": "odoH5UaF5gEE"
      },
      "execution_count": 40,
      "outputs": []
    },
    {
      "cell_type": "code",
      "source": [
        "print(accuracy_score(y_train,y_pred_train_nb))\n",
        "print('....................')\n",
        "print(accuracy_score(y_test,y_pred_test_nb))"
      ],
      "metadata": {
        "colab": {
          "base_uri": "https://localhost:8080/"
        },
        "id": "6_QM8VYTxOtH",
        "outputId": "e871415b-8662-4f6e-afe9-6de3fa6cdc62"
      },
      "execution_count": 41,
      "outputs": [
        {
          "output_type": "stream",
          "name": "stdout",
          "text": [
            "0.9782426778242678\n",
            "....................\n",
            "0.9464882943143813\n"
          ]
        }
      ]
    },
    {
      "cell_type": "code",
      "source": [
        "test1=['Hello, Hope you are doing well.']\n",
        "test2=['Congratulations, You won a lottery ticket worth $100 Million! TO claim call @1111']"
      ],
      "metadata": {
        "id": "zyISESbk_2dl"
      },
      "execution_count": null,
      "outputs": []
    },
    {
      "cell_type": "code",
      "source": [
        "from sklearn.feature_extraction.text import TfidfVectorizer\n",
        "tfidf=TfidfVectorizer()\n",
        "test1=tfidf.fit_transform(test1).toarray()\n",
        "test2=tfidf.fit_transform(test2).toarray()\n",
        "\n",
        "print(spam_detect_model.predict(test1))\n",
        "print(spam_detect_model.predict(test2))"
      ],
      "metadata": {
        "colab": {
          "base_uri": "https://localhost:8080/",
          "height": 415
        },
        "id": "F6xfekXBxOqW",
        "outputId": "a89ae911-b913-49df-f0fc-1e8673a1bdd6"
      },
      "execution_count": 49,
      "outputs": [
        {
          "output_type": "error",
          "ename": "ValueError",
          "evalue": "ignored",
          "traceback": [
            "\u001b[0;31m---------------------------------------------------------------------------\u001b[0m",
            "\u001b[0;31mValueError\u001b[0m                                Traceback (most recent call last)",
            "\u001b[0;32m<ipython-input-49-c7769ebd0565>\u001b[0m in \u001b[0;36m<cell line: 6>\u001b[0;34m()\u001b[0m\n\u001b[1;32m      4\u001b[0m \u001b[0mtest2\u001b[0m\u001b[0;34m=\u001b[0m\u001b[0mtfidf\u001b[0m\u001b[0;34m.\u001b[0m\u001b[0mfit_transform\u001b[0m\u001b[0;34m(\u001b[0m\u001b[0mtest2\u001b[0m\u001b[0;34m)\u001b[0m\u001b[0;34m.\u001b[0m\u001b[0mtoarray\u001b[0m\u001b[0;34m(\u001b[0m\u001b[0;34m)\u001b[0m\u001b[0;34m\u001b[0m\u001b[0;34m\u001b[0m\u001b[0m\n\u001b[1;32m      5\u001b[0m \u001b[0;34m\u001b[0m\u001b[0m\n\u001b[0;32m----> 6\u001b[0;31m \u001b[0mprint\u001b[0m\u001b[0;34m(\u001b[0m\u001b[0mspam_detect_model\u001b[0m\u001b[0;34m.\u001b[0m\u001b[0mpredict\u001b[0m\u001b[0;34m(\u001b[0m\u001b[0mtest1\u001b[0m\u001b[0;34m)\u001b[0m\u001b[0;34m)\u001b[0m\u001b[0;34m\u001b[0m\u001b[0;34m\u001b[0m\u001b[0m\n\u001b[0m\u001b[1;32m      7\u001b[0m \u001b[0mprint\u001b[0m\u001b[0;34m(\u001b[0m\u001b[0mspam_detect_model\u001b[0m\u001b[0;34m.\u001b[0m\u001b[0mpredict\u001b[0m\u001b[0;34m(\u001b[0m\u001b[0mtest2\u001b[0m\u001b[0;34m)\u001b[0m\u001b[0;34m)\u001b[0m\u001b[0;34m\u001b[0m\u001b[0;34m\u001b[0m\u001b[0m\n",
            "\u001b[0;32m/usr/local/lib/python3.10/dist-packages/sklearn/naive_bayes.py\u001b[0m in \u001b[0;36mpredict\u001b[0;34m(self, X)\u001b[0m\n\u001b[1;32m    103\u001b[0m         \"\"\"\n\u001b[1;32m    104\u001b[0m         \u001b[0mcheck_is_fitted\u001b[0m\u001b[0;34m(\u001b[0m\u001b[0mself\u001b[0m\u001b[0;34m)\u001b[0m\u001b[0;34m\u001b[0m\u001b[0;34m\u001b[0m\u001b[0m\n\u001b[0;32m--> 105\u001b[0;31m         \u001b[0mX\u001b[0m \u001b[0;34m=\u001b[0m \u001b[0mself\u001b[0m\u001b[0;34m.\u001b[0m\u001b[0m_check_X\u001b[0m\u001b[0;34m(\u001b[0m\u001b[0mX\u001b[0m\u001b[0;34m)\u001b[0m\u001b[0;34m\u001b[0m\u001b[0;34m\u001b[0m\u001b[0m\n\u001b[0m\u001b[1;32m    106\u001b[0m         \u001b[0mjll\u001b[0m \u001b[0;34m=\u001b[0m \u001b[0mself\u001b[0m\u001b[0;34m.\u001b[0m\u001b[0m_joint_log_likelihood\u001b[0m\u001b[0;34m(\u001b[0m\u001b[0mX\u001b[0m\u001b[0;34m)\u001b[0m\u001b[0;34m\u001b[0m\u001b[0;34m\u001b[0m\u001b[0m\n\u001b[1;32m    107\u001b[0m         \u001b[0;32mreturn\u001b[0m \u001b[0mself\u001b[0m\u001b[0;34m.\u001b[0m\u001b[0mclasses_\u001b[0m\u001b[0;34m[\u001b[0m\u001b[0mnp\u001b[0m\u001b[0;34m.\u001b[0m\u001b[0margmax\u001b[0m\u001b[0;34m(\u001b[0m\u001b[0mjll\u001b[0m\u001b[0;34m,\u001b[0m \u001b[0maxis\u001b[0m\u001b[0;34m=\u001b[0m\u001b[0;36m1\u001b[0m\u001b[0;34m)\u001b[0m\u001b[0;34m]\u001b[0m\u001b[0;34m\u001b[0m\u001b[0;34m\u001b[0m\u001b[0m\n",
            "\u001b[0;32m/usr/local/lib/python3.10/dist-packages/sklearn/naive_bayes.py\u001b[0m in \u001b[0;36m_check_X\u001b[0;34m(self, X)\u001b[0m\n\u001b[1;32m    577\u001b[0m     \u001b[0;32mdef\u001b[0m \u001b[0m_check_X\u001b[0m\u001b[0;34m(\u001b[0m\u001b[0mself\u001b[0m\u001b[0;34m,\u001b[0m \u001b[0mX\u001b[0m\u001b[0;34m)\u001b[0m\u001b[0;34m:\u001b[0m\u001b[0;34m\u001b[0m\u001b[0;34m\u001b[0m\u001b[0m\n\u001b[1;32m    578\u001b[0m         \u001b[0;34m\"\"\"Validate X, used only in predict* methods.\"\"\"\u001b[0m\u001b[0;34m\u001b[0m\u001b[0;34m\u001b[0m\u001b[0m\n\u001b[0;32m--> 579\u001b[0;31m         \u001b[0;32mreturn\u001b[0m \u001b[0mself\u001b[0m\u001b[0;34m.\u001b[0m\u001b[0m_validate_data\u001b[0m\u001b[0;34m(\u001b[0m\u001b[0mX\u001b[0m\u001b[0;34m,\u001b[0m \u001b[0maccept_sparse\u001b[0m\u001b[0;34m=\u001b[0m\u001b[0;34m\"csr\"\u001b[0m\u001b[0;34m,\u001b[0m \u001b[0mreset\u001b[0m\u001b[0;34m=\u001b[0m\u001b[0;32mFalse\u001b[0m\u001b[0;34m)\u001b[0m\u001b[0;34m\u001b[0m\u001b[0;34m\u001b[0m\u001b[0m\n\u001b[0m\u001b[1;32m    580\u001b[0m \u001b[0;34m\u001b[0m\u001b[0m\n\u001b[1;32m    581\u001b[0m     \u001b[0;32mdef\u001b[0m \u001b[0m_check_X_y\u001b[0m\u001b[0;34m(\u001b[0m\u001b[0mself\u001b[0m\u001b[0;34m,\u001b[0m \u001b[0mX\u001b[0m\u001b[0;34m,\u001b[0m \u001b[0my\u001b[0m\u001b[0;34m,\u001b[0m \u001b[0mreset\u001b[0m\u001b[0;34m=\u001b[0m\u001b[0;32mTrue\u001b[0m\u001b[0;34m)\u001b[0m\u001b[0;34m:\u001b[0m\u001b[0;34m\u001b[0m\u001b[0;34m\u001b[0m\u001b[0m\n",
            "\u001b[0;32m/usr/local/lib/python3.10/dist-packages/sklearn/base.py\u001b[0m in \u001b[0;36m_validate_data\u001b[0;34m(self, X, y, reset, validate_separately, **check_params)\u001b[0m\n\u001b[1;32m    586\u001b[0m \u001b[0;34m\u001b[0m\u001b[0m\n\u001b[1;32m    587\u001b[0m         \u001b[0;32mif\u001b[0m \u001b[0;32mnot\u001b[0m \u001b[0mno_val_X\u001b[0m \u001b[0;32mand\u001b[0m \u001b[0mcheck_params\u001b[0m\u001b[0;34m.\u001b[0m\u001b[0mget\u001b[0m\u001b[0;34m(\u001b[0m\u001b[0;34m\"ensure_2d\"\u001b[0m\u001b[0;34m,\u001b[0m \u001b[0;32mTrue\u001b[0m\u001b[0;34m)\u001b[0m\u001b[0;34m:\u001b[0m\u001b[0;34m\u001b[0m\u001b[0;34m\u001b[0m\u001b[0m\n\u001b[0;32m--> 588\u001b[0;31m             \u001b[0mself\u001b[0m\u001b[0;34m.\u001b[0m\u001b[0m_check_n_features\u001b[0m\u001b[0;34m(\u001b[0m\u001b[0mX\u001b[0m\u001b[0;34m,\u001b[0m \u001b[0mreset\u001b[0m\u001b[0;34m=\u001b[0m\u001b[0mreset\u001b[0m\u001b[0;34m)\u001b[0m\u001b[0;34m\u001b[0m\u001b[0;34m\u001b[0m\u001b[0m\n\u001b[0m\u001b[1;32m    589\u001b[0m \u001b[0;34m\u001b[0m\u001b[0m\n\u001b[1;32m    590\u001b[0m         \u001b[0;32mreturn\u001b[0m \u001b[0mout\u001b[0m\u001b[0;34m\u001b[0m\u001b[0;34m\u001b[0m\u001b[0m\n",
            "\u001b[0;32m/usr/local/lib/python3.10/dist-packages/sklearn/base.py\u001b[0m in \u001b[0;36m_check_n_features\u001b[0;34m(self, X, reset)\u001b[0m\n\u001b[1;32m    387\u001b[0m \u001b[0;34m\u001b[0m\u001b[0m\n\u001b[1;32m    388\u001b[0m         \u001b[0;32mif\u001b[0m \u001b[0mn_features\u001b[0m \u001b[0;34m!=\u001b[0m \u001b[0mself\u001b[0m\u001b[0;34m.\u001b[0m\u001b[0mn_features_in_\u001b[0m\u001b[0;34m:\u001b[0m\u001b[0;34m\u001b[0m\u001b[0;34m\u001b[0m\u001b[0m\n\u001b[0;32m--> 389\u001b[0;31m             raise ValueError(\n\u001b[0m\u001b[1;32m    390\u001b[0m                 \u001b[0;34mf\"X has {n_features} features, but {self.__class__.__name__} \"\u001b[0m\u001b[0;34m\u001b[0m\u001b[0;34m\u001b[0m\u001b[0m\n\u001b[1;32m    391\u001b[0m                 \u001b[0;34mf\"is expecting {self.n_features_in_} features as input.\"\u001b[0m\u001b[0;34m\u001b[0m\u001b[0;34m\u001b[0m\u001b[0m\n",
            "\u001b[0;31mValueError\u001b[0m: X has 6 features, but MultinomialNB is expecting 2933 features as input."
          ]
        }
      ]
    },
    {
      "cell_type": "code",
      "source": [],
      "metadata": {
        "id": "-ifpkQuexOnq"
      },
      "execution_count": null,
      "outputs": []
    },
    {
      "cell_type": "code",
      "source": [],
      "metadata": {
        "id": "bUDR79JqxOkm"
      },
      "execution_count": null,
      "outputs": []
    },
    {
      "cell_type": "code",
      "source": [],
      "metadata": {
        "id": "csntfWXIxOhv"
      },
      "execution_count": null,
      "outputs": []
    },
    {
      "cell_type": "code",
      "source": [],
      "metadata": {
        "id": "s_t08MVjxOfA"
      },
      "execution_count": null,
      "outputs": []
    },
    {
      "cell_type": "code",
      "source": [],
      "metadata": {
        "id": "vUnT-qTVxOch"
      },
      "execution_count": null,
      "outputs": []
    },
    {
      "cell_type": "code",
      "source": [],
      "metadata": {
        "id": "PTlN7eE9xOZm"
      },
      "execution_count": null,
      "outputs": []
    },
    {
      "cell_type": "code",
      "source": [],
      "metadata": {
        "id": "eZ1XqzAAxOWw"
      },
      "execution_count": null,
      "outputs": []
    },
    {
      "cell_type": "code",
      "source": [],
      "metadata": {
        "id": "zimAtA7UxOTn"
      },
      "execution_count": null,
      "outputs": []
    },
    {
      "cell_type": "code",
      "source": [],
      "metadata": {
        "id": "TFDYbR49xOQu"
      },
      "execution_count": null,
      "outputs": []
    },
    {
      "cell_type": "code",
      "source": [],
      "metadata": {
        "id": "5XWNTE9IxONv"
      },
      "execution_count": null,
      "outputs": []
    },
    {
      "cell_type": "code",
      "source": [],
      "metadata": {
        "id": "Hrtkd01DxOKv"
      },
      "execution_count": null,
      "outputs": []
    },
    {
      "cell_type": "code",
      "source": [],
      "metadata": {
        "id": "FtpUaqJnxOHe"
      },
      "execution_count": null,
      "outputs": []
    },
    {
      "cell_type": "code",
      "source": [],
      "metadata": {
        "id": "WwW_Ymj_xOEm"
      },
      "execution_count": null,
      "outputs": []
    },
    {
      "cell_type": "code",
      "execution_count": null,
      "metadata": {
        "id": "18MKkZSvtd-V"
      },
      "outputs": [],
      "source": []
    }
  ]
}